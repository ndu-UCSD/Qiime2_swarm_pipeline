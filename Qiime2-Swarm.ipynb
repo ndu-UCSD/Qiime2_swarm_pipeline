{
 "cells": [
  {
   "cell_type": "markdown",
   "metadata": {},
   "source": [
    "### Qiime2-Swarm pipeline for 16S/18S data processing\n",
    "\n",
    "This pipeline takes standard output from John Mccrow's SSU-Swarm pipeline and convert data into qiime compatible formats \n",
    "\n",
    "##### Version: N/A (2/21/2019)\n",
    "\n",
    "##### Niu Du (dniu [at] jcvi.org)\n",
    "##### J. Craig Venter Institute (JCVI)\n",
    "##### La Jolla, CA USA"
   ]
  },
  {
   "cell_type": "code",
   "execution_count": 2,
   "metadata": {},
   "outputs": [],
   "source": [
    "import pandas as pd\n",
    "import numpy as np\n",
    "from tqdm import tqdm\n",
    "import os\n",
    "from scipy.spatial.distance import pdist,squareform\n",
    "from skbio.stats.ordination import pcoa\n",
    "from scipy.interpolate import griddata\n",
    "from skbio import DistanceMatrix\n",
    "from skbio import diversity\n",
    "import seaborn as sns\n",
    "import matplotlib.pyplot as plt\n",
    "from Bio import SeqIO,Phylo\n",
    "from IPython.display import IFrame\n",
    "from scipy.stats import linregress\n",
    "\n",
    "\n",
    "import plotly.offline as py\n",
    "import plotly.graph_objs as go\n",
    "import ecopy as ep\n",
    "from plotly import tools\n",
    "import warnings\n",
    "warnings.filterwarnings(\"ignore\")"
   ]
  },
  {
   "cell_type": "code",
   "execution_count": 3,
   "metadata": {},
   "outputs": [],
   "source": [
    "sns.set(context='paper', style=\"whitegrid\", palette='dark', font='sans-serif:Arial', font_scale=1, color_codes=False, rc=None)\n",
    "sns.set_style(\"ticks\", {\"xtick.major.size\": 3, \"ytick.major.size\": 3})\n",
    "sns.set_context(\"paper\",font_scale=1, rc={\"font.size\":24,\"axes.titlesize\":12,\"axes.labelsize\":12})   "
   ]
  },
  {
   "cell_type": "code",
   "execution_count": 4,
   "metadata": {},
   "outputs": [],
   "source": [
    "# Set work directory here\n",
    "os.environ['base'] = '/local/ifs2_projdata/0568/projects/PLANKTON/illumina_aallen/ndu/Templates/Qiime2_template'\n",
    "os.environ['Work_dir'] = os.environ['base']+'/results'\n",
    "os.environ['classifier_dir'] = '/local/ifs2_projdata/0568/projects/PLANKTON/illumina_aallen/db/Ocean_database/classifier/silva-132-99-515-806-nb-classifier.qza'\n",
    "!mkdir -p $Work_dir"
   ]
  },
  {
   "cell_type": "code",
   "execution_count": 5,
   "metadata": {},
   "outputs": [],
   "source": [
    "# specify input tables\n",
    "\n",
    "# Count table\n",
    "os.environ['count_table'] = os.environ['base']+'/CalCOFI_2012-2016/CalCOFI_concat_16S.swarm.tax'\n",
    "# Representative sequences\n",
    "os.environ['rep_seq'] = os.environ['base']+'/CalCOFI_2012-2016/CalCOFI_concat_16S.swarm.fa'\n",
    "# Metadata\n",
    "os.environ['meta_file'] = os.environ['base']+'/CalCOFI_2012-2016/meta_data.csv'\n"
   ]
  },
  {
   "cell_type": "code",
   "execution_count": 6,
   "metadata": {},
   "outputs": [],
   "source": [
    "# Diversity methods to be used besides core-metrics (faith-PD and unifracs)\n",
    "a_div_methods = ['ace', 'berger_parker_d', 'brillouin_d', 'chao1', 'dominance', 'doubles', 'enspie',  'fisher_alpha', 'gini_index', 'goods_coverage', 'heip_e', 'lladser_pe', 'margalef', 'mcintosh_d', 'mcintosh_e', 'menhinick', 'observed_otus', 'pielou_e', 'robbins', 'shannon', 'simpson', 'simpson_e', 'singles', 'strong']\n",
    "b_div_methods = ['braycurtis', 'canberra', 'chebyshev', 'cityblock', 'correlation', 'cosine', 'dice', 'euclidean', 'hamming', 'jaccard', 'kulsinski', 'matching', 'rogerstanimoto', 'russellrao', 'seuclidean', 'sokalmichener', 'sokalsneath', 'sqeuclidean', 'yule']"
   ]
  },
  {
   "cell_type": "code",
   "execution_count": 7,
   "metadata": {},
   "outputs": [],
   "source": [
    "# String error in df_taxa_count table columns, fixed here - the column names must match names in metadata files\n",
    "## This may not needed for other samples\n",
    "df_taxa_count = pd.read_table(os.environ['count_table']).set_index('id')\n",
    "Fix_sta =['20'+x[:-4] for x in df_taxa_count.columns[2:]]\n",
    "New_col = list(df_taxa_count.columns[:2])+ Fix_sta\n",
    "New_col_T = [x[:-1]+'T' if x[-2:] == '_t' else x for x in New_col]\n",
    "df_taxa_count.columns = New_col_T\n",
    "df_taxa_count = df_taxa_count.dropna()"
   ]
  },
  {
   "cell_type": "code",
   "execution_count": 8,
   "metadata": {},
   "outputs": [],
   "source": [
    "# metadata should be cleaned up - make sure the sample id matches in both count and meta tables\n",
    "\n",
    "## The index name must match the id column name in the meta table\n",
    "\n",
    "# If comma separated file, change '\\t' to ','\n",
    "meta_data = pd.read_csv(os.environ['meta_file'],sep = '\\t').set_index('sampleid')"
   ]
  },
  {
   "cell_type": "code",
   "execution_count": 144,
   "metadata": {},
   "outputs": [],
   "source": [
    "# Qiime only recognize tap separated files, run this step if error occured in the following step\n",
    "# meta_data.to_csv(os.environ['meta_file'],sep = '\\t')"
   ]
  },
  {
   "cell_type": "code",
   "execution_count": 145,
   "metadata": {},
   "outputs": [],
   "source": [
    "# Filter out OTUs with very low counts for all of the following analysis and remove the coresponding OTUs\n",
    "df_otu_count = df_taxa_count[list(set(df_taxa_count.columns).intersection(meta_data.index))]\n",
    "index_match = list(set(meta_data.index).intersection(df_otu_count.columns))\n",
    "df_otu_count_filter = df_otu_count[index_match]\n",
    "df_otu_count_filter = df_otu_count.loc[df_otu_count.sum(axis = 1)>100] # minimal counting frequency\n",
    "otu_seq_dict = SeqIO.to_dict(rec.upper() for rec in SeqIO.parse(os.environ['rep_seq'],'fasta'))\n",
    "otu_seq_dict_filter = [otu_seq_dict[i] for i in df_otu_count_filter.index]\n",
    "with open(os.environ['Work_dir']+'/rep-sequence-filtered.fa', \"w\") as handle:\n",
    "    SeqIO.write(otu_seq_dict_filter, handle, \"fasta\") "
   ]
  },
  {
   "cell_type": "code",
   "execution_count": 9,
   "metadata": {},
   "outputs": [
    {
     "name": "stdout",
     "output_type": "stream",
     "text": [
      "\u001b[32mImported /local/ifs2_projdata/0568/projects/PLANKTON/illumina_aallen/ndu/Templates/Qiime2_template/results/rep-sequence-filtered.fa as DNASequencesDirectoryFormat to /local/ifs2_projdata/0568/projects/PLANKTON/illumina_aallen/ndu/Templates/Qiime2_template/results/rep-seqs.qza\u001b[0m\n"
     ]
    }
   ],
   "source": [
    "# Import the filtered OTU sequences here \n",
    "!qiime tools import \\\n",
    "  --input-path $Work_dir/rep-sequence-filtered.fa \\\n",
    "  --output-path $Work_dir/rep-seqs.qza \\\n",
    "  --type 'FeatureData[Sequence]'"
   ]
  },
  {
   "cell_type": "code",
   "execution_count": 147,
   "metadata": {},
   "outputs": [
    {
     "name": "stdout",
     "output_type": "stream",
     "text": [
      "\u001b[32mSaved FeatureData[AlignedSequence] to: /local/ifs2_projdata/0568/projects/PLANKTON/illumina_aallen/ndu/Templates/Qiime2_template/results/aligned-rep-seqs.qza\u001b[0m\n",
      "\u001b[32mSaved FeatureData[AlignedSequence] to: /local/ifs2_projdata/0568/projects/PLANKTON/illumina_aallen/ndu/Templates/Qiime2_template/results/masked-aligned-rep-seqs.qza\u001b[0m\n",
      "\u001b[32mSaved Phylogeny[Unrooted] to: /local/ifs2_projdata/0568/projects/PLANKTON/illumina_aallen/ndu/Templates/Qiime2_template/results/unrooted-tree.qza\u001b[0m\n",
      "\u001b[32mSaved Phylogeny[Rooted] to: /local/ifs2_projdata/0568/projects/PLANKTON/illumina_aallen/ndu/Templates/Qiime2_template/results/rooted-tree.qza\u001b[0m\n"
     ]
    }
   ],
   "source": [
    "# Now Doing alignment and build a phylogeny tree based on clusters\n",
    "\n",
    "!qiime alignment mafft \\\n",
    "  --i-sequences $Work_dir/rep-seqs.qza \\\n",
    "  --o-alignment $Work_dir/aligned-rep-seqs.qza\n",
    "\n",
    "!qiime alignment mask \\\n",
    "  --i-alignment $Work_dir/aligned-rep-seqs.qza \\\n",
    "  --o-masked-alignment $Work_dir/masked-aligned-rep-seqs.qza\n",
    "\n",
    "!qiime phylogeny fasttree \\\n",
    "  --i-alignment $Work_dir/masked-aligned-rep-seqs.qza \\\n",
    "  --o-tree $Work_dir/unrooted-tree.qza\n",
    "\n",
    "!qiime phylogeny midpoint-root \\\n",
    "  --i-tree $Work_dir/unrooted-tree.qza \\\n",
    "  --o-rooted-tree $Work_dir/rooted-tree.qza\n"
   ]
  },
  {
   "cell_type": "code",
   "execution_count": 166,
   "metadata": {},
   "outputs": [
    {
     "name": "stdout",
     "output_type": "stream",
     "text": [
      "\u001b[32mExported /local/ifs2_projdata/0568/projects/PLANKTON/illumina_aallen/ndu/Templates/Qiime2_template/results/rooted-tree.qza as NewickDirectoryFormat to directory /local/ifs2_projdata/0568/projects/PLANKTON/illumina_aallen/ndu/Templates/Qiime2_template/results/exported-tree/rooted\u001b[0m\n",
      "\u001b[32mExported /local/ifs2_projdata/0568/projects/PLANKTON/illumina_aallen/ndu/Templates/Qiime2_template/results/unrooted-tree.qza as NewickDirectoryFormat to directory /local/ifs2_projdata/0568/projects/PLANKTON/illumina_aallen/ndu/Templates/Qiime2_template/results/exported-tree/unrooted\u001b[0m\n"
     ]
    }
   ],
   "source": [
    "# Export tree; for faith and unifrac distance calculation \n",
    "!qiime tools export \\\n",
    "  --input-path $Work_dir/rooted-tree.qza \\\n",
    "  --output-path  $Work_dir/exported-tree/rooted\n",
    "\n",
    "!qiime tools export \\\n",
    "  --input-path $Work_dir/unrooted-tree.qza \\\n",
    "  --output-path  $Work_dir/exported-tree/unrooted"
   ]
  },
  {
   "cell_type": "code",
   "execution_count": 149,
   "metadata": {},
   "outputs": [],
   "source": [
    "########################### Unifrac analysis of raw OTUs ###############################\n"
   ]
  },
  {
   "cell_type": "code",
   "execution_count": 150,
   "metadata": {},
   "outputs": [
    {
     "name": "stdout",
     "output_type": "stream",
     "text": [
      "\u001b[32mImported /local/ifs2_projdata/0568/projects/PLANKTON/illumina_aallen/ndu/Templates/Qiime2_template/results/Otu_count_filter.biom as BIOMV210DirFmt to /local/ifs2_projdata/0568/projects/PLANKTON/illumina_aallen/ndu/Templates/Qiime2_template/results/otu_count_filter.qza\u001b[0m\n"
     ]
    }
   ],
   "source": [
    "# Convert filtered OTU table to biom format so it can be used in Qiime2\n",
    "\n",
    "df_otu_count_filter.to_csv(os.environ['Work_dir']+'/df_otu_count_filter.txt',sep = '\\t')\n",
    "!biom convert -i $Work_dir/df_otu_count_filter.txt -o $Work_dir/Otu_count_filter.biom --to-hdf5\n",
    "\n",
    "!qiime tools import \\\n",
    "  --input-path $Work_dir/Otu_count_filter.biom \\\n",
    "  --output-path $Work_dir/otu_count_filter.qza \\\n",
    "  --type 'FeatureTable[Frequency]'"
   ]
  },
  {
   "cell_type": "code",
   "execution_count": 151,
   "metadata": {},
   "outputs": [
    {
     "name": "stdout",
     "output_type": "stream",
     "text": [
      "\u001b[32mSaved Visualization to: /local/ifs2_projdata/0568/projects/PLANKTON/illumina_aallen/ndu/Templates/Qiime2_template/results/alpha-rarefraction/visualization.qzv\u001b[0m\n",
      "\n",
      "real\t2m21.527s\n",
      "user\t2m16.835s\n",
      "sys\t0m2.047s\n"
     ]
    }
   ],
   "source": [
    "# Generrate alpha rarefaction curves to determine the minimal sequence depth for a-diversity \n",
    "!time qiime diversity alpha-rarefaction \\\n",
    "    --i-table $Work_dir/otu_count_filter.qza \\\n",
    "    --p-max-depth 50000 \\\n",
    "    --i-phylogeny $Work_dir/rooted-tree.qza \\\n",
    "    --m-metadata-file $meta_file \\\n",
    "    --output-dir $Work_dir/alpha-rarefraction\n"
   ]
  },
  {
   "cell_type": "code",
   "execution_count": 152,
   "metadata": {},
   "outputs": [
    {
     "name": "stdout",
     "output_type": "stream",
     "text": [
      "\u001b[32mSaved FeatureTable[Frequency] to: /local/ifs2_projdata/0568/projects/PLANKTON/illumina_aallen/ndu/Templates/Qiime2_template/results/core-metrics-results/rarefied_table.qza\u001b[0m\n",
      "\u001b[32mSaved SampleData[AlphaDiversity] % Properties(['phylogenetic']) to: /local/ifs2_projdata/0568/projects/PLANKTON/illumina_aallen/ndu/Templates/Qiime2_template/results/core-metrics-results/faith_pd_vector.qza\u001b[0m\n",
      "\u001b[32mSaved SampleData[AlphaDiversity] to: /local/ifs2_projdata/0568/projects/PLANKTON/illumina_aallen/ndu/Templates/Qiime2_template/results/core-metrics-results/observed_otus_vector.qza\u001b[0m\n",
      "\u001b[32mSaved SampleData[AlphaDiversity] to: /local/ifs2_projdata/0568/projects/PLANKTON/illumina_aallen/ndu/Templates/Qiime2_template/results/core-metrics-results/shannon_vector.qza\u001b[0m\n",
      "\u001b[32mSaved SampleData[AlphaDiversity] to: /local/ifs2_projdata/0568/projects/PLANKTON/illumina_aallen/ndu/Templates/Qiime2_template/results/core-metrics-results/evenness_vector.qza\u001b[0m\n",
      "\u001b[32mSaved DistanceMatrix % Properties(['phylogenetic']) to: /local/ifs2_projdata/0568/projects/PLANKTON/illumina_aallen/ndu/Templates/Qiime2_template/results/core-metrics-results/unweighted_unifrac_distance_matrix.qza\u001b[0m\n",
      "\u001b[32mSaved DistanceMatrix % Properties(['phylogenetic']) to: /local/ifs2_projdata/0568/projects/PLANKTON/illumina_aallen/ndu/Templates/Qiime2_template/results/core-metrics-results/weighted_unifrac_distance_matrix.qza\u001b[0m\n",
      "\u001b[32mSaved DistanceMatrix to: /local/ifs2_projdata/0568/projects/PLANKTON/illumina_aallen/ndu/Templates/Qiime2_template/results/core-metrics-results/jaccard_distance_matrix.qza\u001b[0m\n",
      "\u001b[32mSaved DistanceMatrix to: /local/ifs2_projdata/0568/projects/PLANKTON/illumina_aallen/ndu/Templates/Qiime2_template/results/core-metrics-results/bray_curtis_distance_matrix.qza\u001b[0m\n",
      "\u001b[32mSaved PCoAResults to: /local/ifs2_projdata/0568/projects/PLANKTON/illumina_aallen/ndu/Templates/Qiime2_template/results/core-metrics-results/unweighted_unifrac_pcoa_results.qza\u001b[0m\n",
      "\u001b[32mSaved PCoAResults to: /local/ifs2_projdata/0568/projects/PLANKTON/illumina_aallen/ndu/Templates/Qiime2_template/results/core-metrics-results/weighted_unifrac_pcoa_results.qza\u001b[0m\n",
      "\u001b[32mSaved PCoAResults to: /local/ifs2_projdata/0568/projects/PLANKTON/illumina_aallen/ndu/Templates/Qiime2_template/results/core-metrics-results/jaccard_pcoa_results.qza\u001b[0m\n",
      "\u001b[32mSaved PCoAResults to: /local/ifs2_projdata/0568/projects/PLANKTON/illumina_aallen/ndu/Templates/Qiime2_template/results/core-metrics-results/bray_curtis_pcoa_results.qza\u001b[0m\n",
      "\u001b[32mSaved Visualization to: /local/ifs2_projdata/0568/projects/PLANKTON/illumina_aallen/ndu/Templates/Qiime2_template/results/core-metrics-results/unweighted_unifrac_emperor.qzv\u001b[0m\n",
      "\u001b[32mSaved Visualization to: /local/ifs2_projdata/0568/projects/PLANKTON/illumina_aallen/ndu/Templates/Qiime2_template/results/core-metrics-results/weighted_unifrac_emperor.qzv\u001b[0m\n",
      "\u001b[32mSaved Visualization to: /local/ifs2_projdata/0568/projects/PLANKTON/illumina_aallen/ndu/Templates/Qiime2_template/results/core-metrics-results/jaccard_emperor.qzv\u001b[0m\n",
      "\u001b[32mSaved Visualization to: /local/ifs2_projdata/0568/projects/PLANKTON/illumina_aallen/ndu/Templates/Qiime2_template/results/core-metrics-results/bray_curtis_emperor.qzv\u001b[0m\n",
      "\n",
      "real\t1m15.319s\n",
      "user\t0m39.324s\n",
      "sys\t0m3.000s\n"
     ]
    }
   ],
   "source": [
    "# Generate diversity metrics, using the selected sequencing depth  \n",
    "!time qiime diversity core-metrics-phylogenetic \\\n",
    "  --i-phylogeny $Work_dir/rooted-tree.qza \\\n",
    "  --i-table $Work_dir/otu_count_filter.qza \\\n",
    "  --p-sampling-depth 12000 \\\n",
    "  --m-metadata-file $meta_file \\\n",
    "  --output-dir $Work_dir/core-metrics-results"
   ]
  },
  {
   "cell_type": "code",
   "execution_count": 153,
   "metadata": {},
   "outputs": [
    {
     "name": "stdout",
     "output_type": "stream",
     "text": [
      "rm: cannot remove '/local/ifs2_projdata/0568/projects/PLANKTON/illumina_aallen/ndu/Templates/Qiime2_template/results/normalized_otu/': No such file or directory\n",
      "\u001b[32mSaved FeatureTable[Frequency] to: /local/ifs2_projdata/0568/projects/PLANKTON/illumina_aallen/ndu/Templates/Qiime2_template/results/normalized_otu/rarefied_table.qza\u001b[0m\n"
     ]
    }
   ],
   "source": [
    "# Rarefying OTU table - Filter out samples that do not meet the minimal seq depth requirement\n",
    "!rm -r $Work_dir/normalized_otu/\n",
    "!qiime feature-table rarefy \\\n",
    "    --i-table $Work_dir/otu_count_filter.qza \\\n",
    "    --p-sampling-depth 12000 \\\n",
    "    --output-dir $Work_dir/normalized_otu/"
   ]
  },
  {
   "cell_type": "code",
   "execution_count": 154,
   "metadata": {},
   "outputs": [
    {
     "name": "stdout",
     "output_type": "stream",
     "text": [
      "\u001b[32mSaved SampleData[AlphaDiversity] to: /local/ifs2_projdata/0568/projects/PLANKTON/illumina_aallen/ndu/Templates/Qiime2_template/results/alpha_div/ace.qza\u001b[0m\n",
      "\u001b[32mSaved SampleData[AlphaDiversity] to: /local/ifs2_projdata/0568/projects/PLANKTON/illumina_aallen/ndu/Templates/Qiime2_template/results/alpha_div/berger_parker_d.qza\u001b[0m\n",
      "\u001b[32mSaved SampleData[AlphaDiversity] to: /local/ifs2_projdata/0568/projects/PLANKTON/illumina_aallen/ndu/Templates/Qiime2_template/results/alpha_div/brillouin_d.qza\u001b[0m\n",
      "\u001b[32mSaved SampleData[AlphaDiversity] to: /local/ifs2_projdata/0568/projects/PLANKTON/illumina_aallen/ndu/Templates/Qiime2_template/results/alpha_div/chao1.qza\u001b[0m\n",
      "\u001b[32mSaved SampleData[AlphaDiversity] to: /local/ifs2_projdata/0568/projects/PLANKTON/illumina_aallen/ndu/Templates/Qiime2_template/results/alpha_div/dominance.qza\u001b[0m\n",
      "\u001b[32mSaved SampleData[AlphaDiversity] to: /local/ifs2_projdata/0568/projects/PLANKTON/illumina_aallen/ndu/Templates/Qiime2_template/results/alpha_div/doubles.qza\u001b[0m\n",
      "\u001b[32mSaved SampleData[AlphaDiversity] to: /local/ifs2_projdata/0568/projects/PLANKTON/illumina_aallen/ndu/Templates/Qiime2_template/results/alpha_div/enspie.qza\u001b[0m\n",
      "\u001b[32mSaved SampleData[AlphaDiversity] to: /local/ifs2_projdata/0568/projects/PLANKTON/illumina_aallen/ndu/Templates/Qiime2_template/results/alpha_div/fisher_alpha.qza\u001b[0m\n",
      "\u001b[32mSaved SampleData[AlphaDiversity] to: /local/ifs2_projdata/0568/projects/PLANKTON/illumina_aallen/ndu/Templates/Qiime2_template/results/alpha_div/gini_index.qza\u001b[0m\n",
      "\u001b[32mSaved SampleData[AlphaDiversity] to: /local/ifs2_projdata/0568/projects/PLANKTON/illumina_aallen/ndu/Templates/Qiime2_template/results/alpha_div/goods_coverage.qza\u001b[0m\n",
      "\u001b[32mSaved SampleData[AlphaDiversity] to: /local/ifs2_projdata/0568/projects/PLANKTON/illumina_aallen/ndu/Templates/Qiime2_template/results/alpha_div/heip_e.qza\u001b[0m\n",
      "\u001b[32mSaved SampleData[AlphaDiversity] to: /local/ifs2_projdata/0568/projects/PLANKTON/illumina_aallen/ndu/Templates/Qiime2_template/results/alpha_div/lladser_pe.qza\u001b[0m\n",
      "\u001b[32mSaved SampleData[AlphaDiversity] to: /local/ifs2_projdata/0568/projects/PLANKTON/illumina_aallen/ndu/Templates/Qiime2_template/results/alpha_div/margalef.qza\u001b[0m\n",
      "\u001b[32mSaved SampleData[AlphaDiversity] to: /local/ifs2_projdata/0568/projects/PLANKTON/illumina_aallen/ndu/Templates/Qiime2_template/results/alpha_div/mcintosh_d.qza\u001b[0m\n",
      "\u001b[32mSaved SampleData[AlphaDiversity] to: /local/ifs2_projdata/0568/projects/PLANKTON/illumina_aallen/ndu/Templates/Qiime2_template/results/alpha_div/mcintosh_e.qza\u001b[0m\n",
      "\u001b[32mSaved SampleData[AlphaDiversity] to: /local/ifs2_projdata/0568/projects/PLANKTON/illumina_aallen/ndu/Templates/Qiime2_template/results/alpha_div/menhinick.qza\u001b[0m\n",
      "\u001b[32mSaved SampleData[AlphaDiversity] to: /local/ifs2_projdata/0568/projects/PLANKTON/illumina_aallen/ndu/Templates/Qiime2_template/results/alpha_div/observed_otus.qza\u001b[0m\n",
      "\u001b[32mSaved SampleData[AlphaDiversity] to: /local/ifs2_projdata/0568/projects/PLANKTON/illumina_aallen/ndu/Templates/Qiime2_template/results/alpha_div/pielou_e.qza\u001b[0m\n",
      "\u001b[32mSaved SampleData[AlphaDiversity] to: /local/ifs2_projdata/0568/projects/PLANKTON/illumina_aallen/ndu/Templates/Qiime2_template/results/alpha_div/robbins.qza\u001b[0m\n",
      "\u001b[32mSaved SampleData[AlphaDiversity] to: /local/ifs2_projdata/0568/projects/PLANKTON/illumina_aallen/ndu/Templates/Qiime2_template/results/alpha_div/shannon.qza\u001b[0m\n",
      "\u001b[32mSaved SampleData[AlphaDiversity] to: /local/ifs2_projdata/0568/projects/PLANKTON/illumina_aallen/ndu/Templates/Qiime2_template/results/alpha_div/simpson.qza\u001b[0m\n",
      "\u001b[32mSaved SampleData[AlphaDiversity] to: /local/ifs2_projdata/0568/projects/PLANKTON/illumina_aallen/ndu/Templates/Qiime2_template/results/alpha_div/simpson_e.qza\u001b[0m\n",
      "\u001b[32mSaved SampleData[AlphaDiversity] to: /local/ifs2_projdata/0568/projects/PLANKTON/illumina_aallen/ndu/Templates/Qiime2_template/results/alpha_div/singles.qza\u001b[0m\n",
      "\u001b[32mSaved SampleData[AlphaDiversity] to: /local/ifs2_projdata/0568/projects/PLANKTON/illumina_aallen/ndu/Templates/Qiime2_template/results/alpha_div/strong.qza\u001b[0m\n"
     ]
    }
   ],
   "source": [
    "!mkdir -p $Work_dir/alpha_div\n",
    "for method in a_div_methods:\n",
    "    os.environ['method'] = method\n",
    "    !qiime diversity alpha \\\n",
    "      --i-table $Work_dir/normalized_otu/rarefied_table.qza \\\n",
    "      --p-metric $method \\\n",
    "      --o-alpha-diversity $Work_dir/alpha_div/$method.qza"
   ]
  },
  {
   "cell_type": "code",
   "execution_count": 167,
   "metadata": {},
   "outputs": [
    {
     "name": "stdout",
     "output_type": "stream",
     "text": [
      "\u001b[32mExported /local/ifs2_projdata/0568/projects/PLANKTON/illumina_aallen/ndu/Templates/Qiime2_template/results/alpha_div/ace.qza as AlphaDiversityDirectoryFormat to directory /local/ifs2_projdata/0568/projects/PLANKTON/illumina_aallen/ndu/Templates/Qiime2_template/results/alpha_div/ace\u001b[0m\n",
      "\u001b[32mExported /local/ifs2_projdata/0568/projects/PLANKTON/illumina_aallen/ndu/Templates/Qiime2_template/results/alpha_div/berger_parker_d.qza as AlphaDiversityDirectoryFormat to directory /local/ifs2_projdata/0568/projects/PLANKTON/illumina_aallen/ndu/Templates/Qiime2_template/results/alpha_div/berger_parker_d\u001b[0m\n",
      "\u001b[32mExported /local/ifs2_projdata/0568/projects/PLANKTON/illumina_aallen/ndu/Templates/Qiime2_template/results/alpha_div/brillouin_d.qza as AlphaDiversityDirectoryFormat to directory /local/ifs2_projdata/0568/projects/PLANKTON/illumina_aallen/ndu/Templates/Qiime2_template/results/alpha_div/brillouin_d\u001b[0m\n",
      "\u001b[32mExported /local/ifs2_projdata/0568/projects/PLANKTON/illumina_aallen/ndu/Templates/Qiime2_template/results/alpha_div/chao1.qza as AlphaDiversityDirectoryFormat to directory /local/ifs2_projdata/0568/projects/PLANKTON/illumina_aallen/ndu/Templates/Qiime2_template/results/alpha_div/chao1\u001b[0m\n",
      "\u001b[32mExported /local/ifs2_projdata/0568/projects/PLANKTON/illumina_aallen/ndu/Templates/Qiime2_template/results/alpha_div/dominance.qza as AlphaDiversityDirectoryFormat to directory /local/ifs2_projdata/0568/projects/PLANKTON/illumina_aallen/ndu/Templates/Qiime2_template/results/alpha_div/dominance\u001b[0m\n",
      "\u001b[32mExported /local/ifs2_projdata/0568/projects/PLANKTON/illumina_aallen/ndu/Templates/Qiime2_template/results/alpha_div/doubles.qza as AlphaDiversityDirectoryFormat to directory /local/ifs2_projdata/0568/projects/PLANKTON/illumina_aallen/ndu/Templates/Qiime2_template/results/alpha_div/doubles\u001b[0m\n",
      "\u001b[32mExported /local/ifs2_projdata/0568/projects/PLANKTON/illumina_aallen/ndu/Templates/Qiime2_template/results/alpha_div/enspie.qza as AlphaDiversityDirectoryFormat to directory /local/ifs2_projdata/0568/projects/PLANKTON/illumina_aallen/ndu/Templates/Qiime2_template/results/alpha_div/enspie\u001b[0m\n",
      "\u001b[32mExported /local/ifs2_projdata/0568/projects/PLANKTON/illumina_aallen/ndu/Templates/Qiime2_template/results/alpha_div/fisher_alpha.qza as AlphaDiversityDirectoryFormat to directory /local/ifs2_projdata/0568/projects/PLANKTON/illumina_aallen/ndu/Templates/Qiime2_template/results/alpha_div/fisher_alpha\u001b[0m\n",
      "\u001b[32mExported /local/ifs2_projdata/0568/projects/PLANKTON/illumina_aallen/ndu/Templates/Qiime2_template/results/alpha_div/gini_index.qza as AlphaDiversityDirectoryFormat to directory /local/ifs2_projdata/0568/projects/PLANKTON/illumina_aallen/ndu/Templates/Qiime2_template/results/alpha_div/gini_index\u001b[0m\n",
      "\u001b[32mExported /local/ifs2_projdata/0568/projects/PLANKTON/illumina_aallen/ndu/Templates/Qiime2_template/results/alpha_div/goods_coverage.qza as AlphaDiversityDirectoryFormat to directory /local/ifs2_projdata/0568/projects/PLANKTON/illumina_aallen/ndu/Templates/Qiime2_template/results/alpha_div/goods_coverage\u001b[0m\n",
      "\u001b[32mExported /local/ifs2_projdata/0568/projects/PLANKTON/illumina_aallen/ndu/Templates/Qiime2_template/results/alpha_div/heip_e.qza as AlphaDiversityDirectoryFormat to directory /local/ifs2_projdata/0568/projects/PLANKTON/illumina_aallen/ndu/Templates/Qiime2_template/results/alpha_div/heip_e\u001b[0m\n",
      "\u001b[32mExported /local/ifs2_projdata/0568/projects/PLANKTON/illumina_aallen/ndu/Templates/Qiime2_template/results/alpha_div/lladser_pe.qza as AlphaDiversityDirectoryFormat to directory /local/ifs2_projdata/0568/projects/PLANKTON/illumina_aallen/ndu/Templates/Qiime2_template/results/alpha_div/lladser_pe\u001b[0m\n",
      "\u001b[32mExported /local/ifs2_projdata/0568/projects/PLANKTON/illumina_aallen/ndu/Templates/Qiime2_template/results/alpha_div/margalef.qza as AlphaDiversityDirectoryFormat to directory /local/ifs2_projdata/0568/projects/PLANKTON/illumina_aallen/ndu/Templates/Qiime2_template/results/alpha_div/margalef\u001b[0m\n",
      "\u001b[32mExported /local/ifs2_projdata/0568/projects/PLANKTON/illumina_aallen/ndu/Templates/Qiime2_template/results/alpha_div/mcintosh_d.qza as AlphaDiversityDirectoryFormat to directory /local/ifs2_projdata/0568/projects/PLANKTON/illumina_aallen/ndu/Templates/Qiime2_template/results/alpha_div/mcintosh_d\u001b[0m\n",
      "\u001b[32mExported /local/ifs2_projdata/0568/projects/PLANKTON/illumina_aallen/ndu/Templates/Qiime2_template/results/alpha_div/mcintosh_e.qza as AlphaDiversityDirectoryFormat to directory /local/ifs2_projdata/0568/projects/PLANKTON/illumina_aallen/ndu/Templates/Qiime2_template/results/alpha_div/mcintosh_e\u001b[0m\n",
      "\u001b[32mExported /local/ifs2_projdata/0568/projects/PLANKTON/illumina_aallen/ndu/Templates/Qiime2_template/results/alpha_div/menhinick.qza as AlphaDiversityDirectoryFormat to directory /local/ifs2_projdata/0568/projects/PLANKTON/illumina_aallen/ndu/Templates/Qiime2_template/results/alpha_div/menhinick\u001b[0m\n",
      "\u001b[32mExported /local/ifs2_projdata/0568/projects/PLANKTON/illumina_aallen/ndu/Templates/Qiime2_template/results/alpha_div/observed_otus.qza as AlphaDiversityDirectoryFormat to directory /local/ifs2_projdata/0568/projects/PLANKTON/illumina_aallen/ndu/Templates/Qiime2_template/results/alpha_div/observed_otus\u001b[0m\n",
      "\u001b[32mExported /local/ifs2_projdata/0568/projects/PLANKTON/illumina_aallen/ndu/Templates/Qiime2_template/results/alpha_div/pielou_e.qza as AlphaDiversityDirectoryFormat to directory /local/ifs2_projdata/0568/projects/PLANKTON/illumina_aallen/ndu/Templates/Qiime2_template/results/alpha_div/pielou_e\u001b[0m\n",
      "\u001b[32mExported /local/ifs2_projdata/0568/projects/PLANKTON/illumina_aallen/ndu/Templates/Qiime2_template/results/alpha_div/robbins.qza as AlphaDiversityDirectoryFormat to directory /local/ifs2_projdata/0568/projects/PLANKTON/illumina_aallen/ndu/Templates/Qiime2_template/results/alpha_div/robbins\u001b[0m\n",
      "\u001b[32mExported /local/ifs2_projdata/0568/projects/PLANKTON/illumina_aallen/ndu/Templates/Qiime2_template/results/alpha_div/shannon.qza as AlphaDiversityDirectoryFormat to directory /local/ifs2_projdata/0568/projects/PLANKTON/illumina_aallen/ndu/Templates/Qiime2_template/results/alpha_div/shannon\u001b[0m\n",
      "\u001b[32mExported /local/ifs2_projdata/0568/projects/PLANKTON/illumina_aallen/ndu/Templates/Qiime2_template/results/alpha_div/simpson.qza as AlphaDiversityDirectoryFormat to directory /local/ifs2_projdata/0568/projects/PLANKTON/illumina_aallen/ndu/Templates/Qiime2_template/results/alpha_div/simpson\u001b[0m\n",
      "\u001b[32mExported /local/ifs2_projdata/0568/projects/PLANKTON/illumina_aallen/ndu/Templates/Qiime2_template/results/alpha_div/simpson_e.qza as AlphaDiversityDirectoryFormat to directory /local/ifs2_projdata/0568/projects/PLANKTON/illumina_aallen/ndu/Templates/Qiime2_template/results/alpha_div/simpson_e\u001b[0m\n",
      "\u001b[32mExported /local/ifs2_projdata/0568/projects/PLANKTON/illumina_aallen/ndu/Templates/Qiime2_template/results/alpha_div/singles.qza as AlphaDiversityDirectoryFormat to directory /local/ifs2_projdata/0568/projects/PLANKTON/illumina_aallen/ndu/Templates/Qiime2_template/results/alpha_div/singles\u001b[0m\n",
      "\u001b[32mExported /local/ifs2_projdata/0568/projects/PLANKTON/illumina_aallen/ndu/Templates/Qiime2_template/results/alpha_div/strong.qza as AlphaDiversityDirectoryFormat to directory /local/ifs2_projdata/0568/projects/PLANKTON/illumina_aallen/ndu/Templates/Qiime2_template/results/alpha_div/strong\u001b[0m\n"
     ]
    }
   ],
   "source": [
    "for method in a_div_methods:\n",
    "    os.environ['method'] = method\n",
    "    !qiime tools export \\\n",
    "      --input-path $Work_dir/alpha_div/$method.qza \\\n",
    "      --output-path $Work_dir/alpha_div/$method"
   ]
  },
  {
   "cell_type": "code",
   "execution_count": 156,
   "metadata": {},
   "outputs": [
    {
     "name": "stdout",
     "output_type": "stream",
     "text": [
      "\u001b[32mSaved DistanceMatrix to: /local/ifs2_projdata/0568/projects/PLANKTON/illumina_aallen/ndu/Templates/Qiime2_template/results/beta_div/braycurtis.qza\u001b[0m\n",
      "\u001b[32mSaved DistanceMatrix to: /local/ifs2_projdata/0568/projects/PLANKTON/illumina_aallen/ndu/Templates/Qiime2_template/results/beta_div/canberra.qza\u001b[0m\n",
      "\u001b[32mSaved DistanceMatrix to: /local/ifs2_projdata/0568/projects/PLANKTON/illumina_aallen/ndu/Templates/Qiime2_template/results/beta_div/chebyshev.qza\u001b[0m\n",
      "\u001b[32mSaved DistanceMatrix to: /local/ifs2_projdata/0568/projects/PLANKTON/illumina_aallen/ndu/Templates/Qiime2_template/results/beta_div/cityblock.qza\u001b[0m\n",
      "\u001b[32mSaved DistanceMatrix to: /local/ifs2_projdata/0568/projects/PLANKTON/illumina_aallen/ndu/Templates/Qiime2_template/results/beta_div/correlation.qza\u001b[0m\n",
      "\u001b[32mSaved DistanceMatrix to: /local/ifs2_projdata/0568/projects/PLANKTON/illumina_aallen/ndu/Templates/Qiime2_template/results/beta_div/cosine.qza\u001b[0m\n",
      "\u001b[32mSaved DistanceMatrix to: /local/ifs2_projdata/0568/projects/PLANKTON/illumina_aallen/ndu/Templates/Qiime2_template/results/beta_div/dice.qza\u001b[0m\n",
      "\u001b[32mSaved DistanceMatrix to: /local/ifs2_projdata/0568/projects/PLANKTON/illumina_aallen/ndu/Templates/Qiime2_template/results/beta_div/euclidean.qza\u001b[0m\n",
      "\u001b[32mSaved DistanceMatrix to: /local/ifs2_projdata/0568/projects/PLANKTON/illumina_aallen/ndu/Templates/Qiime2_template/results/beta_div/hamming.qza\u001b[0m\n",
      "\u001b[32mSaved DistanceMatrix to: /local/ifs2_projdata/0568/projects/PLANKTON/illumina_aallen/ndu/Templates/Qiime2_template/results/beta_div/jaccard.qza\u001b[0m\n",
      "\u001b[32mSaved DistanceMatrix to: /local/ifs2_projdata/0568/projects/PLANKTON/illumina_aallen/ndu/Templates/Qiime2_template/results/beta_div/kulsinski.qza\u001b[0m\n",
      "\u001b[32mSaved DistanceMatrix to: /local/ifs2_projdata/0568/projects/PLANKTON/illumina_aallen/ndu/Templates/Qiime2_template/results/beta_div/matching.qza\u001b[0m\n",
      "\u001b[32mSaved DistanceMatrix to: /local/ifs2_projdata/0568/projects/PLANKTON/illumina_aallen/ndu/Templates/Qiime2_template/results/beta_div/rogerstanimoto.qza\u001b[0m\n",
      "\u001b[32mSaved DistanceMatrix to: /local/ifs2_projdata/0568/projects/PLANKTON/illumina_aallen/ndu/Templates/Qiime2_template/results/beta_div/russellrao.qza\u001b[0m\n",
      "\u001b[32mSaved DistanceMatrix to: /local/ifs2_projdata/0568/projects/PLANKTON/illumina_aallen/ndu/Templates/Qiime2_template/results/beta_div/seuclidean.qza\u001b[0m\n",
      "\u001b[32mSaved DistanceMatrix to: /local/ifs2_projdata/0568/projects/PLANKTON/illumina_aallen/ndu/Templates/Qiime2_template/results/beta_div/sokalmichener.qza\u001b[0m\n",
      "\u001b[32mSaved DistanceMatrix to: /local/ifs2_projdata/0568/projects/PLANKTON/illumina_aallen/ndu/Templates/Qiime2_template/results/beta_div/sokalsneath.qza\u001b[0m\n",
      "\u001b[32mSaved DistanceMatrix to: /local/ifs2_projdata/0568/projects/PLANKTON/illumina_aallen/ndu/Templates/Qiime2_template/results/beta_div/sqeuclidean.qza\u001b[0m\n",
      "\u001b[32mSaved DistanceMatrix to: /local/ifs2_projdata/0568/projects/PLANKTON/illumina_aallen/ndu/Templates/Qiime2_template/results/beta_div/yule.qza\u001b[0m\n"
     ]
    }
   ],
   "source": [
    "!mkdir -p $Work_dir/beta_div\n",
    "for method in b_div_methods:\n",
    "    os.environ['method'] = method\n",
    "    !qiime diversity beta \\\n",
    "        --i-table $Work_dir/normalized_otu/rarefied_table.qza \\\n",
    "        --p-metric $method \\\n",
    "        --o-distance-matrix $Work_dir/beta_div/$method.qza"
   ]
  },
  {
   "cell_type": "code",
   "execution_count": 157,
   "metadata": {},
   "outputs": [
    {
     "name": "stdout",
     "output_type": "stream",
     "text": [
      "\u001b[32mExported /local/ifs2_projdata/0568/projects/PLANKTON/illumina_aallen/ndu/Templates/Qiime2_template/results/beta_div/braycurtis.qza as DistanceMatrixDirectoryFormat to directory /local/ifs2_projdata/0568/projects/PLANKTON/illumina_aallen/ndu/Templates/Qiime2_template/results/beta_div/braycurtis\u001b[0m\n",
      "\u001b[32mExported /local/ifs2_projdata/0568/projects/PLANKTON/illumina_aallen/ndu/Templates/Qiime2_template/results/beta_div/canberra.qza as DistanceMatrixDirectoryFormat to directory /local/ifs2_projdata/0568/projects/PLANKTON/illumina_aallen/ndu/Templates/Qiime2_template/results/beta_div/canberra\u001b[0m\n",
      "\u001b[32mExported /local/ifs2_projdata/0568/projects/PLANKTON/illumina_aallen/ndu/Templates/Qiime2_template/results/beta_div/chebyshev.qza as DistanceMatrixDirectoryFormat to directory /local/ifs2_projdata/0568/projects/PLANKTON/illumina_aallen/ndu/Templates/Qiime2_template/results/beta_div/chebyshev\u001b[0m\n",
      "\u001b[32mExported /local/ifs2_projdata/0568/projects/PLANKTON/illumina_aallen/ndu/Templates/Qiime2_template/results/beta_div/cityblock.qza as DistanceMatrixDirectoryFormat to directory /local/ifs2_projdata/0568/projects/PLANKTON/illumina_aallen/ndu/Templates/Qiime2_template/results/beta_div/cityblock\u001b[0m\n",
      "\u001b[32mExported /local/ifs2_projdata/0568/projects/PLANKTON/illumina_aallen/ndu/Templates/Qiime2_template/results/beta_div/correlation.qza as DistanceMatrixDirectoryFormat to directory /local/ifs2_projdata/0568/projects/PLANKTON/illumina_aallen/ndu/Templates/Qiime2_template/results/beta_div/correlation\u001b[0m\n",
      "\u001b[32mExported /local/ifs2_projdata/0568/projects/PLANKTON/illumina_aallen/ndu/Templates/Qiime2_template/results/beta_div/cosine.qza as DistanceMatrixDirectoryFormat to directory /local/ifs2_projdata/0568/projects/PLANKTON/illumina_aallen/ndu/Templates/Qiime2_template/results/beta_div/cosine\u001b[0m\n",
      "\u001b[32mExported /local/ifs2_projdata/0568/projects/PLANKTON/illumina_aallen/ndu/Templates/Qiime2_template/results/beta_div/dice.qza as DistanceMatrixDirectoryFormat to directory /local/ifs2_projdata/0568/projects/PLANKTON/illumina_aallen/ndu/Templates/Qiime2_template/results/beta_div/dice\u001b[0m\n",
      "\u001b[32mExported /local/ifs2_projdata/0568/projects/PLANKTON/illumina_aallen/ndu/Templates/Qiime2_template/results/beta_div/euclidean.qza as DistanceMatrixDirectoryFormat to directory /local/ifs2_projdata/0568/projects/PLANKTON/illumina_aallen/ndu/Templates/Qiime2_template/results/beta_div/euclidean\u001b[0m\n",
      "\u001b[32mExported /local/ifs2_projdata/0568/projects/PLANKTON/illumina_aallen/ndu/Templates/Qiime2_template/results/beta_div/hamming.qza as DistanceMatrixDirectoryFormat to directory /local/ifs2_projdata/0568/projects/PLANKTON/illumina_aallen/ndu/Templates/Qiime2_template/results/beta_div/hamming\u001b[0m\n",
      "\u001b[32mExported /local/ifs2_projdata/0568/projects/PLANKTON/illumina_aallen/ndu/Templates/Qiime2_template/results/beta_div/jaccard.qza as DistanceMatrixDirectoryFormat to directory /local/ifs2_projdata/0568/projects/PLANKTON/illumina_aallen/ndu/Templates/Qiime2_template/results/beta_div/jaccard\u001b[0m\n",
      "\u001b[32mExported /local/ifs2_projdata/0568/projects/PLANKTON/illumina_aallen/ndu/Templates/Qiime2_template/results/beta_div/kulsinski.qza as DistanceMatrixDirectoryFormat to directory /local/ifs2_projdata/0568/projects/PLANKTON/illumina_aallen/ndu/Templates/Qiime2_template/results/beta_div/kulsinski\u001b[0m\n",
      "\u001b[32mExported /local/ifs2_projdata/0568/projects/PLANKTON/illumina_aallen/ndu/Templates/Qiime2_template/results/beta_div/matching.qza as DistanceMatrixDirectoryFormat to directory /local/ifs2_projdata/0568/projects/PLANKTON/illumina_aallen/ndu/Templates/Qiime2_template/results/beta_div/matching\u001b[0m\n",
      "\u001b[32mExported /local/ifs2_projdata/0568/projects/PLANKTON/illumina_aallen/ndu/Templates/Qiime2_template/results/beta_div/rogerstanimoto.qza as DistanceMatrixDirectoryFormat to directory /local/ifs2_projdata/0568/projects/PLANKTON/illumina_aallen/ndu/Templates/Qiime2_template/results/beta_div/rogerstanimoto\u001b[0m\n",
      "\u001b[32mExported /local/ifs2_projdata/0568/projects/PLANKTON/illumina_aallen/ndu/Templates/Qiime2_template/results/beta_div/russellrao.qza as DistanceMatrixDirectoryFormat to directory /local/ifs2_projdata/0568/projects/PLANKTON/illumina_aallen/ndu/Templates/Qiime2_template/results/beta_div/russellrao\u001b[0m\n",
      "\u001b[32mExported /local/ifs2_projdata/0568/projects/PLANKTON/illumina_aallen/ndu/Templates/Qiime2_template/results/beta_div/seuclidean.qza as DistanceMatrixDirectoryFormat to directory /local/ifs2_projdata/0568/projects/PLANKTON/illumina_aallen/ndu/Templates/Qiime2_template/results/beta_div/seuclidean\u001b[0m\n",
      "\u001b[32mExported /local/ifs2_projdata/0568/projects/PLANKTON/illumina_aallen/ndu/Templates/Qiime2_template/results/beta_div/sokalmichener.qza as DistanceMatrixDirectoryFormat to directory /local/ifs2_projdata/0568/projects/PLANKTON/illumina_aallen/ndu/Templates/Qiime2_template/results/beta_div/sokalmichener\u001b[0m\n",
      "\u001b[32mExported /local/ifs2_projdata/0568/projects/PLANKTON/illumina_aallen/ndu/Templates/Qiime2_template/results/beta_div/sokalsneath.qza as DistanceMatrixDirectoryFormat to directory /local/ifs2_projdata/0568/projects/PLANKTON/illumina_aallen/ndu/Templates/Qiime2_template/results/beta_div/sokalsneath\u001b[0m\n",
      "\u001b[32mExported /local/ifs2_projdata/0568/projects/PLANKTON/illumina_aallen/ndu/Templates/Qiime2_template/results/beta_div/sqeuclidean.qza as DistanceMatrixDirectoryFormat to directory /local/ifs2_projdata/0568/projects/PLANKTON/illumina_aallen/ndu/Templates/Qiime2_template/results/beta_div/sqeuclidean\u001b[0m\n",
      "\u001b[32mExported /local/ifs2_projdata/0568/projects/PLANKTON/illumina_aallen/ndu/Templates/Qiime2_template/results/beta_div/yule.qza as DistanceMatrixDirectoryFormat to directory /local/ifs2_projdata/0568/projects/PLANKTON/illumina_aallen/ndu/Templates/Qiime2_template/results/beta_div/yule\u001b[0m\n"
     ]
    }
   ],
   "source": [
    "for method in b_div_methods:\n",
    "    os.environ['method'] = method\n",
    "    !qiime tools export \\\n",
    "      --input-path $Work_dir/beta_div/$method.qza \\\n",
    "      --output-path  $Work_dir/beta_div/$method"
   ]
  },
  {
   "cell_type": "code",
   "execution_count": 158,
   "metadata": {},
   "outputs": [
    {
     "name": "stdout",
     "output_type": "stream",
     "text": [
      "\u001b[32mExported /local/ifs2_projdata/0568/projects/PLANKTON/illumina_aallen/ndu/Templates/Qiime2_template/results/core-metrics-results/faith_pd_vector.qza as AlphaDiversityDirectoryFormat to directory /local/ifs2_projdata/0568/projects/PLANKTON/illumina_aallen/ndu/Templates/Qiime2_template/results/core-metrics-results/Faith_PD/\u001b[0m\n"
     ]
    }
   ],
   "source": [
    "# Getting Faith-alpha diversity data\n",
    "\n",
    "!qiime tools export \\\n",
    "  --input-path $Work_dir/core-metrics-results/faith_pd_vector.qza \\\n",
    "  --output-path $Work_dir/core-metrics-results/Faith_PD/"
   ]
  },
  {
   "cell_type": "code",
   "execution_count": 159,
   "metadata": {},
   "outputs": [
    {
     "name": "stdout",
     "output_type": "stream",
     "text": [
      "\u001b[32mExported /local/ifs2_projdata/0568/projects/PLANKTON/illumina_aallen/ndu/Templates/Qiime2_template/results/core-metrics-results/weighted_unifrac_distance_matrix.qza as DistanceMatrixDirectoryFormat to directory /local/ifs2_projdata/0568/projects/PLANKTON/illumina_aallen/ndu/Templates/Qiime2_template/results/core-metrics-results/weighted_unifrac/\u001b[0m\n"
     ]
    }
   ],
   "source": [
    "# Getting weighted unifrac diversity data\n",
    "\n",
    "!qiime tools export \\\n",
    "  --input-path $Work_dir/core-metrics-results/weighted_unifrac_distance_matrix.qza \\\n",
    "  --output-path $Work_dir/core-metrics-results/weighted_unifrac/"
   ]
  },
  {
   "cell_type": "code",
   "execution_count": 160,
   "metadata": {},
   "outputs": [
    {
     "name": "stdout",
     "output_type": "stream",
     "text": [
      "\u001b[32mExported /local/ifs2_projdata/0568/projects/PLANKTON/illumina_aallen/ndu/Templates/Qiime2_template/results/core-metrics-results/unweighted_unifrac_distance_matrix.qza as DistanceMatrixDirectoryFormat to directory /local/ifs2_projdata/0568/projects/PLANKTON/illumina_aallen/ndu/Templates/Qiime2_template/results/core-metrics-results/unweighted_unifrac/\u001b[0m\n"
     ]
    }
   ],
   "source": [
    "# Getting unweighted unifrac diversity data\n",
    "\n",
    "!qiime tools export \\\n",
    "  --input-path $Work_dir/core-metrics-results/unweighted_unifrac_distance_matrix.qza \\\n",
    "  --output-path $Work_dir/core-metrics-results/unweighted_unifrac/"
   ]
  },
  {
   "cell_type": "raw",
   "metadata": {},
   "source": [
    "################################# Now Getting data orgnized for PCoA plots#####################################"
   ]
  },
  {
   "cell_type": "code",
   "execution_count": 161,
   "metadata": {},
   "outputs": [],
   "source": [
    "df_Faith_PD = pd.read_csv(os.environ['Work_dir']+'/core-metrics-results/Faith_PD/alpha-diversity.tsv',sep = '\\t',index_col='Unnamed: 0')\n",
    "df_unifrac_weighted = pd.read_csv(os.environ['Work_dir']+'/core-metrics-results/weighted_unifrac/distance-matrix.tsv',sep = '\\t',index_col='Unnamed: 0')\n",
    "df_unifrac_unweighted = pd.read_csv(os.environ['Work_dir']+'/core-metrics-results/unweighted_unifrac/distance-matrix.tsv',sep = '\\t',index_col='Unnamed: 0')"
   ]
  },
  {
   "cell_type": "code",
   "execution_count": 162,
   "metadata": {},
   "outputs": [],
   "source": [
    "# Calculating contour\n",
    "df_Faith_PD = df_Faith_PD.merge(meta_data,left_index=True,right_index=True)"
   ]
  },
  {
   "cell_type": "code",
   "execution_count": 163,
   "metadata": {},
   "outputs": [],
   "source": [
    "# Make dataframe that contains all alphadiversity data "
   ]
  },
  {
   "cell_type": "code",
   "execution_count": 172,
   "metadata": {},
   "outputs": [],
   "source": [
    "df_alpha_all = df_Faith_PD.copy()"
   ]
  },
  {
   "cell_type": "code",
   "execution_count": 173,
   "metadata": {},
   "outputs": [],
   "source": [
    "df_alpha_all = df_Faith_PD.copy()\n",
    "for method in a_div_methods:\n",
    "    df_alpha_all = df_alpha_all.merge(pd.read_csv(os.environ['Work_dir']+'/alpha_div/'+method+'/alpha-diversity.tsv',sep = '\\t',index_col='Unnamed: 0'),left_index=True,right_index=True)"
   ]
  },
  {
   "cell_type": "code",
   "execution_count": 174,
   "metadata": {},
   "outputs": [],
   "source": [
    "# Make dictionary that contains all beta diversity matrices"
   ]
  },
  {
   "cell_type": "code",
   "execution_count": 175,
   "metadata": {},
   "outputs": [],
   "source": [
    "dict_beta_all = {'unifrac_weighted':df_unifrac_weighted,'unifrac_unweighted':df_unifrac_unweighted}\n",
    "for method in b_div_methods:\n",
    "    dict_beta_all[method] = pd.read_csv(os.environ['Work_dir']+'/beta_div/'+method+'/distance-matrix.tsv',sep = '\\t',index_col='Unnamed: 0')"
   ]
  },
  {
   "cell_type": "code",
   "execution_count": 177,
   "metadata": {},
   "outputs": [],
   "source": [
    "# Data export for Metagenomics Vis pipeline\n",
    "df_alpha_all.to_pickle(os.environ['Work_dir']+'/df_alpha_meta.pkl')\n",
    "\n",
    "import pickle\n",
    "with open(os.environ['Work_dir']+\"/dict_beta.pkl\", \"wb\") as f:\n",
    "    pickle.dump(dict_beta_all, f)"
   ]
  },
  {
   "cell_type": "code",
   "execution_count": null,
   "metadata": {},
   "outputs": [],
   "source": [
    "###### Up to this point all analysis was done using OTU information directly #######\n",
    "\n",
    "###### You can now run the diversity analysis and make plots in the ohter notebook ######\n",
    "\n",
    "###### Starting from here Taxa information will be included ######"
   ]
  },
  {
   "cell_type": "markdown",
   "metadata": {},
   "source": [
    "################### Redo annotations using trained classifier ################"
   ]
  },
  {
   "cell_type": "code",
   "execution_count": 178,
   "metadata": {},
   "outputs": [
    {
     "name": "stdout",
     "output_type": "stream",
     "text": [
      "\u001b[32mSaved FeatureData[Sequence] to: /local/ifs2_projdata/0568/projects/PLANKTON/illumina_aallen/ndu/Templates/Qiime2_template/results/trimmed-rep-seqs.qza\u001b[0m\n",
      "\n",
      "real\t17m45.352s\n",
      "user\t17m44.569s\n",
      "sys\t0m0.418s\n"
     ]
    }
   ],
   "source": [
    "# When 151 - 926 primers wer used, need to trim it down before classification, because the sequences are too long, using 515-806 primer pairs\n",
    "!time qiime feature-classifier extract-reads \\\n",
    "  --i-sequences $Work_dir/rep-seqs.qza \\\n",
    "  --p-f-primer GTGYCAGCMGCCGCGGTAA \\\n",
    "  --p-r-primer GGACTACHVHHHTWTCTAAT \\\n",
    "  --o-reads $Work_dir/trimmed-rep-seqs.qza"
   ]
  },
  {
   "cell_type": "code",
   "execution_count": 179,
   "metadata": {},
   "outputs": [
    {
     "name": "stdout",
     "output_type": "stream",
     "text": [
      "Your job 9438917 (\"qiime\") has been submitted\n"
     ]
    }
   ],
   "source": [
    "# This step runs on the grid; make sure it was finished before running the next step\n",
    "!qsub -P 0746 -N qiime -cwd -e gridout/err -o grid/out \\\n",
    "./qiime-classify.py -p 8 \\\n",
    "-r $classifier_dir \\\n",
    "-i $Work_dir/trimmed-rep-seqs.qza \\\n",
    "-o $Work_dir/taxonomy.qza"
   ]
  },
  {
   "cell_type": "code",
   "execution_count": 13,
   "metadata": {},
   "outputs": [
    {
     "name": "stdout",
     "output_type": "stream",
     "text": [
      "\u001b[32mExported /local/ifs2_projdata/0568/projects/PLANKTON/illumina_aallen/ndu/Templates/Qiime2_template/results/taxonomy.qza as TSVTaxonomyDirectoryFormat to directory /local/ifs2_projdata/0568/projects/PLANKTON/illumina_aallen/ndu/Templates/Qiime2_template/results/taxa/\u001b[0m\n"
     ]
    }
   ],
   "source": [
    "!qiime tools export \\\n",
    "    --input-path $Work_dir/taxonomy.qza \\\n",
    "    --output-path $Work_dir/taxa/ \\"
   ]
  },
  {
   "cell_type": "code",
   "execution_count": 55,
   "metadata": {},
   "outputs": [],
   "source": [
    "def extract_string(x):\n",
    "    if str(x) == 'None':\n",
    "        return str(x)\n",
    "    else: \n",
    "        return str(x).split('__')[1]\n",
    "df_taxa = pd.read_table(os.environ['Work_dir']+'/taxa/taxonomy.tsv',sep = '\\t').set_index('Feature ID')\n",
    "df_taxa_info = pd.DataFrame([taxa.split(';') for taxa in df_taxa.Taxon]).fillna('None').applymap(extract_string)\n",
    "df_taxa_info.index = df_taxa.index\n",
    "df_taxa_info.columns = [str('D'+str(i+1)) for i in range(len(df_taxa_info.columns))]"
   ]
  },
  {
   "cell_type": "markdown",
   "metadata": {},
   "source": [
    "################### Dissimilarity between samples using ANOVA test ################"
   ]
  },
  {
   "cell_type": "code",
   "execution_count": 56,
   "metadata": {},
   "outputs": [],
   "source": [
    "# log transfer normalized otu counts "
   ]
  },
  {
   "cell_type": "code",
   "execution_count": 57,
   "metadata": {},
   "outputs": [],
   "source": [
    "Out_count_filter = pd.read_table(os.environ['Work_dir']+'/df_otu_count_filter.txt').set_index('id')"
   ]
  },
  {
   "cell_type": "code",
   "execution_count": 62,
   "metadata": {},
   "outputs": [
    {
     "name": "stdout",
     "output_type": "stream",
     "text": [
      "\u001b[32mSaved FeatureTable[Composition] to: /local/ifs2_projdata/0568/projects/PLANKTON/illumina_aallen/ndu/Templates/Qiime2_template/results/normalized_otu/otu_pesudo_composition.qza\u001b[0m\n",
      "\n",
      "real\t0m7.139s\n",
      "user\t0m5.736s\n",
      "sys\t0m0.421s\n"
     ]
    }
   ],
   "source": [
    "# Adding pseudo counts to avoid error in log transformation\n",
    "!time qiime composition add-pseudocount \\\n",
    "    --i-table $Work_dir/normalized_otu/rarefied_table.qza \\\n",
    "    --p-pseudocount 1 \\\n",
    "    --o-composition-table $Work_dir/normalized_otu/otu_pesudo_composition.qza"
   ]
  },
  {
   "cell_type": "code",
   "execution_count": 63,
   "metadata": {},
   "outputs": [
    {
     "name": "stdout",
     "output_type": "stream",
     "text": [
      "\u001b[32mExported /local/ifs2_projdata/0568/projects/PLANKTON/illumina_aallen/ndu/Templates/Qiime2_template/results/normalized_otu/otu_pesudo_composition.qza as BIOMV210DirFmt to directory /local/ifs2_projdata/0568/projects/PLANKTON/illumina_aallen/ndu/Templates/Qiime2_template/results/normalized_otu/\u001b[0m\n"
     ]
    }
   ],
   "source": [
    "# Export the log transferred count table\n",
    "!qiime tools export \\\n",
    "  --input-path $Work_dir/normalized_otu/otu_pesudo_composition.qza\\\n",
    "  --output-path  $Work_dir/normalized_otu/\n",
    "\n",
    "!biom convert -i $Work_dir/normalized_otu/feature-table.biom -o $Work_dir/normalized_otu/feature-table.txt --to-tsv"
   ]
  },
  {
   "cell_type": "code",
   "execution_count": 64,
   "metadata": {},
   "outputs": [],
   "source": [
    "df_otu_counts = pd.read_table(os.environ['Work_dir']+'/normalized_otu/feature-table.txt',sep = '\\t',header = 1).set_index('#OTU ID')\n",
    "df_otu_counts = df_otu_counts[df_otu_counts.columns.sort_values()]\n",
    "df_otu_counts_log = df_otu_counts.apply(np.log)"
   ]
  },
  {
   "cell_type": "code",
   "execution_count": 65,
   "metadata": {},
   "outputs": [],
   "source": [
    "from Du_functions import Hawk_smash\n",
    "\n",
    "# ANOVA test returns \n",
    "# 1. dict of entiched OTU for each group based on adjusted p value of selection and \n",
    "# 2. dict of ANOVA result in dataframe for each group\n",
    "from Du_functions import ANOVA_test\n",
    "from Du_functions import Count_OTU_by_reference"
   ]
  },
  {
   "cell_type": "code",
   "execution_count": 66,
   "metadata": {},
   "outputs": [],
   "source": [
    "# Adjusted p cutting off value\n",
    "p_adj_threshold = 0.001"
   ]
  },
  {
   "cell_type": "code",
   "execution_count": 67,
   "metadata": {},
   "outputs": [],
   "source": [
    "# Generate a dictionary that include all group name - samples relations\n",
    "\n",
    "''' * Need to make your own definition here\n",
    "    Group_factor -  find the groups that you wish to run the ANOVA test in meta data file, and put the column name here\n",
    "    Group_list - types exist within the group of interest, put them in the order that you wish to show in the table \n",
    "'''\n",
    "dict_enriched_region,df_region_ANOVA = ANOVA_test(meta_data,df_otu_counts_log,Group_factor = 'Code_CCE',Group_list = ['Off','CC','SCB','Up'],P_cut=p_adj_threshold)\n",
    "dict_enriched_depth_1,df_depth_1_ANOVA = ANOVA_test(meta_data,df_otu_counts_log,Group_factor = 'Depth_bin_1',Group_list = ['0-25', '25-50', '50-75', '>75'],P_cut=p_adj_threshold)\n",
    "dict_enriched_depth_2,df_depth_2_ANOVA = ANOVA_test(meta_data,df_otu_counts_log,Group_factor = 'Depth_bin_2',Group_list = ['<50', '>50'],P_cut=p_adj_threshold)\n",
    "dict_enriched_depth_3,df_depth_3_ANOVA = ANOVA_test(meta_data,df_otu_counts_log,Group_factor = 'Depth_bin_3',Group_list = ['<20', '>20'],P_cut=p_adj_threshold)\n",
    "dict_enriched_OTU_all = {**dict_enriched_region,**dict_enriched_depth_1,**dict_enriched_depth_2,**dict_enriched_depth_3}"
   ]
  },
  {
   "cell_type": "code",
   "execution_count": 68,
   "metadata": {},
   "outputs": [],
   "source": [
    "import pickle\n",
    "with open(os.environ['base']+\"/dict_enriched_OTU_all.pkl\", \"wb\") as f:\n",
    "    pickle.dump(dict_enriched_OTU_all, f)"
   ]
  },
  {
   "cell_type": "code",
   "execution_count": 69,
   "metadata": {},
   "outputs": [],
   "source": [
    "dict_enriched_OTU_all = pickle.load(open( os.environ['base']+\"/dict_enriched_OTU_all.pkl\", \"rb\" ) )"
   ]
  },
  {
   "cell_type": "code",
   "execution_count": 70,
   "metadata": {},
   "outputs": [],
   "source": [
    "# The reference list is a customized taxa annotation for grouping taxa - see example\n",
    "df_Annotation_reference = pd.read_csv(os.environ['base']+'/CalCOFI_2012-2016/16S_Annotation_reference_list.csv').set_index('Name')"
   ]
  },
  {
   "cell_type": "code",
   "execution_count": 71,
   "metadata": {},
   "outputs": [],
   "source": [
    "df_reference_counts = df_Annotation_reference.copy()\n",
    "for group in dict_enriched_OTU_all.keys():\n",
    "    df_candidate = df_taxa_info.loc[dict_enriched_OTU_all[group]].dropna()\n",
    "    _,df_temp = Count_OTU_by_reference(df_candidate,df_Annotation_reference,group)\n",
    "    df_reference_counts = df_reference_counts.merge(df_temp,left_index = True, right_index=True)"
   ]
  },
  {
   "cell_type": "code",
   "execution_count": 72,
   "metadata": {},
   "outputs": [],
   "source": [
    "_,df_all_counts = Count_OTU_by_reference(df_taxa_info.loc[df_otu_counts.index],df_Annotation_reference,'All')"
   ]
  },
  {
   "cell_type": "code",
   "execution_count": 73,
   "metadata": {},
   "outputs": [],
   "source": [
    "df_reference_counts[['D1', 'D2', 'D3', 'D4', 'D5', 'D6','Off','CC','SCB','Up','0-25', '25-50', '50-75', '>75','<50', '>50','<20', '>20']].merge(df_all_counts,left_index = True, right_index = True).to_csv('16S_Taxa_group_p_0.001.csv')"
   ]
  },
  {
   "cell_type": "code",
   "execution_count": 74,
   "metadata": {},
   "outputs": [],
   "source": [
    "Factors = ['Temp', 'Sal', 'Density', 'O2', 'PO4', 'SiO3', 'NO3', 'NH3', 'Chla', 'PhaePig', 'PO4_log','SiO3_log', 'NO3_log',\n",
    "       'NH3_log', 'Chla_log','ChlaAnom','PhaePig_log', 'NCDepth_log','PO4Anom', 'SiO3Anom', 'NO2Anom', 'NO3Anom','NCDepth', 'TempAnom']"
   ]
  },
  {
   "cell_type": "code",
   "execution_count": 75,
   "metadata": {},
   "outputs": [
    {
     "name": "stderr",
     "output_type": "stream",
     "text": [
      "100%|██████████| 12/12 [03:34<00:00, 17.83s/it]\n"
     ]
    }
   ],
   "source": [
    "# Perform linear regression on the selected OTUs\n",
    "\n",
    "dict_linear = {}\n",
    "for group in tqdm(dict_enriched_OTU_all.keys()):\n",
    "    Model_coef = np.zeros((len(dict_enriched_OTU_all[group]),len(Factors)))\n",
    "    for OTU_ID,OTU in enumerate(df_otu_counts.loc[dict_enriched_OTU_all[group]].index):\n",
    "        for Factor_ID,Factor in enumerate(Factors):\n",
    "            C,_,_,P,_ = linregress(df_otu_counts_log.loc[OTU],meta_data.loc[df_otu_counts.columns][Factor])\n",
    "            Model_coef[OTU_ID,Factor_ID] = C if P<0.05 else 0 # The p value here is for linear regression, not ANOVA\n",
    "    dict_linear[group] = pd.DataFrame(Model_coef,index=df_otu_counts.loc[dict_enriched_OTU_all[group]].index,columns=Factors)\n",
    "    "
   ]
  },
  {
   "cell_type": "code",
   "execution_count": 23,
   "metadata": {},
   "outputs": [
    {
     "name": "stderr",
     "output_type": "stream",
     "text": [
      "100%|██████████| 12/12 [00:26<00:00,  2.81s/it]\n"
     ]
    }
   ],
   "source": [
    "writer = pd.ExcelWriter(os.environ['base']+'/results/16S_summary_linear_all_P_0.001.xlsx', engine='xlsxwriter')\n",
    "for group in tqdm(['Off','CC','SCB','Up','0-25', '25-50', '50-75', '>75','<50', '>50','<20', '>20']):\n",
    "    df = df_taxa_info.merge(dict_linear[group],left_index =True, right_index = True) \n",
    "    df = df.loc[dict_enriched_OTU_all[group]].merge(df_otu_counts,how = 'inner',left_index =True, right_index = True)\n",
    "    df = df[df.D1 != 'Eukaryota']\n",
    "    df.to_excel(writer, sheet_name=group)\n",
    "writer.save()"
   ]
  },
  {
   "cell_type": "markdown",
   "metadata": {},
   "source": [
    "############################## CCA plot ##############################"
   ]
  },
  {
   "cell_type": "code",
   "execution_count": 77,
   "metadata": {},
   "outputs": [],
   "source": [
    "# Using the annotation list from Andy to mark OTUs on the CCA plot\n",
    "'''This step has to be done manually; download the xlsx file generated from previous step, \n",
    "add in the last column the initials or other custom names for each OTU based on the taxa info. \n",
    "After finished editing the xlsx file, upload it to the folder and run (change the file name below)\n",
    "'''\n",
    "import xlrd\n",
    "dict_otu_initials = {}\n",
    "workbook = xlrd.open_workbook(\"./16S_summary_linear_AA.xlsx\")\n",
    "for tap in workbook.sheets():\n",
    "    dict_otu_initials.update(dict(zip(tap.col_values(0)[1:],tap.col_values(-1)[1:]))) \n",
    "    # dict_otu_initials.update(dict(zip(tap.col_values(0)[1:],tap.col_values(37)[1:]))) "
   ]
  },
  {
   "cell_type": "code",
   "execution_count": 83,
   "metadata": {},
   "outputs": [
    {
     "data": {
      "image/png": "[encoded data removed]",
      "text/plain": [
       "<Figure size 648x648 with 1 Axes>"
      ]
     },
     "metadata": {},
     "output_type": "display_data"
    }
   ],
   "source": [
    "# Optional check the Venn diagram for the unique OTUs\n",
    "import venn\n",
    "%matplotlib inline\n",
    "names = ['SCB','Off','CC','Up']\n",
    "# names = ['0-25', '25-50', '50-100', '>100']\n",
    "labels = venn.get_labels([set(dict_enriched_region[x]) for x in names])\n",
    "#labels = venn.get_labels([dict_enriched_OTU_depth[x] for x in names])\n",
    "\n",
    "fig, ax = venn.venn4(labels = labels, names=names)\n",
    "fig.show()"
   ]
  },
  {
   "cell_type": "code",
   "execution_count": 84,
   "metadata": {},
   "outputs": [],
   "source": [
    "df_otu_counts_Code = df_otu_counts.copy().T\n",
    "df_otu_counts_Code = df_otu_counts_Code.merge(meta_data[['Code_CCE']],left_index = True, right_index=True)\n",
    "df_otu_counts_Code = df_otu_counts_Code.groupby('Code_CCE').sum().T\n",
    "df_otu_counts_Code['Total'] = df_otu_counts_Code.sum(axis = 1)\n",
    "df_otu_counts_Code['w_abundance'] = pd.cut(np.log(df_otu_counts_Code['Total']),bins = 100, labels=np.arange(100))\n",
    "\n",
    "# Getting uniquely enriched OTUs\n",
    "dict_enriched_region_unique = {}\n",
    "for name in dict_enriched_region.keys():\n",
    "    temp_name = names.copy()\n",
    "    temp_name.remove(name)\n",
    "    dict_enriched_region_unique[name] = list(set(dict_enriched_region[name]) - set([item for sublist in [dict_enriched_region[x] for x in temp_name] for item in sublist])\n",
    ")\n",
    "df_otu_summary = {}\n",
    "for region in ['Off','CC','SCB','Up']:\n",
    "    temp = df_region_ANOVA[region].loc[dict_enriched_region_unique[region]].sort_values('F_ratio',ascending = False)\n",
    "    temp['w_F_ratio'] = pd.cut(np.log(temp.F_ratio),bins = 100, labels=np.arange(100))\n",
    "    df_otu_summary[region] = temp.merge(df_otu_counts_Code,left_index = True, right_index=True)\n",
    "    df_otu_summary[region]['Weight'] = np.array(df_otu_summary[region]['w_F_ratio'])*0.5+np.array(df_otu_summary[region]['w_abundance'])*0.5"
   ]
  },
  {
   "cell_type": "code",
   "execution_count": 85,
   "metadata": {},
   "outputs": [
    {
     "name": "stderr",
     "output_type": "stream",
     "text": [
      "100%|██████████| 4/4 [00:00<00:00,  7.36it/s]\n"
     ]
    }
   ],
   "source": [
    "writer = pd.ExcelWriter('16S_weight_sorted_OTU.xlsx', engine='xlsxwriter')\n",
    "for group in tqdm(['Off','CC','SCB','Up']):\n",
    "    df = df_otu_summary[group].sort_values('Weight',ascending = False).merge(df_taxa_info,how = 'inner',left_index =True, right_index = True)\n",
    "    df.to_excel(writer, sheet_name=group)\n",
    "writer.save()"
   ]
  },
  {
   "cell_type": "code",
   "execution_count": 88,
   "metadata": {},
   "outputs": [],
   "source": [
    "# Color code the OTUs in the scatter plot\n",
    "dict_region_color = {'Off':'blue','CC':'orange','SCB':'green','Up':'red'}\n",
    "dict_otu_color = dict(zip(df_otu_counts.index,['lightgray']*len(df_otu_counts)))\n",
    "\n",
    "for region in ['Off','CC','SCB','Up']:\n",
    "    for otu in dict_enriched_region[region]:\n",
    "        dict_otu_color[otu] = dict_region_color[region]\n",
    "\n",
    "# Make a dictonary for number of OTUs to annotate ateach region\n",
    "dict_number_selection = {'Off':20,'CC':0,'SCB':0,'Up':20}\n",
    "\n",
    "list_selected_otu = [df_region_ANOVA[region].loc[dict_enriched_region[region]].sort_values('F_ratio', ascending= False).index[:dict_number_selection[region]] for region in ['Off','CC','SCB','Up']]\n",
    "list_spp_name = [dict_otu_initials[x] for x in Hawk_smash(list_selected_otu)]\n",
    "list_spp_color = Hawk_smash([[dict_region_color[x]]*dict_number_selection[x] for x in ['Off','CC','SCB','Up']])"
   ]
  },
  {
   "cell_type": "code",
   "execution_count": 89,
   "metadata": {},
   "outputs": [],
   "source": [
    "# CCA analysis here; need to be customized \n",
    "\n",
    "# modified the list of factors used\n",
    "df_CCA_factor = meta_data[['Temp', 'NCDepth','Chla','O2','NO3','Density']].dropna()\n",
    "df_group_CCA = df_otu_counts.T.loc[df_CCA_factor.index].dropna()\n",
    "df_CCA_factor = df_CCA_factor.loc[df_group_CCA.index]\n",
    "\n",
    "# Overall CCA\n",
    "from skbio.stats.ordination import cca\n",
    "mb_all = cca(df_group_CCA,df_CCA_factor)"
   ]
  },
  {
   "cell_type": "code",
   "execution_count": 90,
   "metadata": {},
   "outputs": [],
   "source": [
    "\n",
    "from itertools import repeat\n",
    "\n",
    "Data_select = mb_all.features\n",
    "\n",
    "# Case features\n",
    "CCA_color = [dict_otu_color[x] for x in Data_select.index]\n",
    "\n",
    "#Case samples\n",
    "#CCA_color = meta_data.loc[mb_all.samples.index].Code_CCE.map(lambda x:{'Off':'blue','CC':'orange','SCB':'green','Up':'red'}[x])\n",
    "trace = go.Scatter(\n",
    "            x=Data_select['CCA1']/max(abs(Data_select['CCA1'])),\n",
    "            y=Data_select['CCA2']/max(abs(Data_select['CCA2'])),\n",
    "            text = Data_select.index,\n",
    "            hoverinfo = 'text',\n",
    "            mode = 'markers',\n",
    "            marker=dict(\n",
    "                size=4,\n",
    "                opacity=0.5,\n",
    "                color = CCA_color,\n",
    "                showscale=False,\n",
    "                )\n",
    ")\n",
    "\n",
    "\n",
    "trace2 = go.Scatter(\n",
    "            x=mb_all.biplot_scores['CCA1']*3/max(abs(Data_select['CCA1'])),\n",
    "            y=mb_all.biplot_scores['CCA2']*3/max(abs(Data_select['CCA2'])),\n",
    "            text = list(mb_all.biplot_scores.index),\n",
    "            textposition='bottom center',\n",
    "            hoverinfo = 'text',\n",
    "            mode = 'markers+text',\n",
    "            marker=dict(\n",
    "                size= 0.1,\n",
    "                opacity=1,\n",
    "                )\n",
    ")\n",
    "\n",
    "trace_annotation = go.Scatter(\n",
    "            x=Data_select['CCA1'].loc[Hawk_smash(list_selected_otu)]/max(abs(Data_select['CCA1'])),\n",
    "            y=Data_select['CCA2'].loc[Hawk_smash(list_selected_otu)]/max(abs(Data_select['CCA2'])),\n",
    "            text = list_spp_name,\n",
    "            hoverinfo = None,\n",
    "            textposition='top center',\n",
    "            mode = 'markers+text',\n",
    "            marker=dict(\n",
    "                symbol = \"circle-open\",\n",
    "                size=10,\n",
    "                opacity=0.9,\n",
    "                color = 'black',\n",
    "                showscale=False,\n",
    "                ),\n",
    "            textfont=dict(size = 12,color = list_spp_color)\n",
    ")"
   ]
  },
  {
   "cell_type": "code",
   "execution_count": 100,
   "metadata": {},
   "outputs": [],
   "source": [
    "Dict_of_annotation = {}\n",
    "for i in mb_all.biplot_scores['CCA1'].index:\n",
    "    Dict_of_annotation[i] = dict(   ax=0,\n",
    "                                    ay=0,\n",
    "                                    axref='x',\n",
    "                                    ayref='y',\n",
    "                                    x=mb_all.biplot_scores['CCA1'].loc[i]*3/max(abs(Data_select['CCA1'])),\n",
    "                                    y=mb_all.biplot_scores['CCA2'].loc[i]*3/max(abs(Data_select['CCA2'])),\n",
    "                                    xref='x',\n",
    "                                    yref='y',\n",
    "                                    showarrow=True,\n",
    "                                    arrowhead=3,\n",
    "                                    arrowsize=1,\n",
    "                                    arrowwidth=1.5,\n",
    "                                    arrowcolor='#636363',\n",
    "                                    opacity = 0.5,\n",
    "                                    font=dict(\n",
    "                                            family='Courier New, monospace',\n",
    "                                            size=16\n",
    "                                        )\n",
    "                                    )\n",
    "for i,j in enumerate(['Off','CC','SCB','Up']):#,'mixed']):\n",
    "    Dict_of_annotation[i] = dict(   ax=0,\n",
    "                                    ay=0,\n",
    "                                    axref='x',\n",
    "                                    ayref='y',\n",
    "                                    x=-1,\n",
    "                                    y=0.8-0.1*i,\n",
    "                                    xref='x',\n",
    "                                    yref='y',\n",
    "                                    showarrow=False,\n",
    "                                    text = j,\n",
    "                                    font=dict(\n",
    "                                            family='Courier New, monospace',\n",
    "                                            size=16,\n",
    "                                            color=dict_region_color[j]\n",
    "                                        ),\n",
    "                                    opacity = 1\n",
    "                                    )"
   ]
  },
  {
   "cell_type": "code",
   "execution_count": 101,
   "metadata": {},
   "outputs": [
    {
     "data": {
      "text/html": [
       "\n",
       "        <iframe\n",
       "            width=\"1050\"\n",
       "            height=\"950\"\n",
       "            src=\"CCA_16S.html\"\n",
       "            frameborder=\"0\"\n",
       "            allowfullscreen\n",
       "        ></iframe>\n",
       "        "
      ],
      "text/plain": [
       "<IPython.lib.display.IFrame at 0x7ff7ef737780>"
      ]
     },
     "execution_count": 101,
     "metadata": {},
     "output_type": "execute_result"
    }
   ],
   "source": [
    "layout = go.Layout(showlegend=False,\n",
    "                   annotations=list(Dict_of_annotation.values()),\n",
    "                    xaxis=dict(\n",
    "                    title='CCA1',\n",
    "                    titlefont=dict(\n",
    "                        family='Courier New, monospace',\n",
    "                        size=18,\n",
    "                        color='#7f7f7f'\n",
    "                        )\n",
    "                    ),\n",
    "\n",
    "                    yaxis=dict(\n",
    "                    title='CCA2',\n",
    "                    titlefont=dict(\n",
    "                        family='Courier New, monospace',\n",
    "                        size=18,\n",
    "                        color='#7f7f7f'\n",
    "                        )\n",
    "                    ),\n",
    "                   \n",
    "                  )\n",
    "\n",
    "### Active the following codes if you wish to draw circles around scattered points\n",
    "\n",
    "# layout['shapes']=[ {   'type': 'circle',\n",
    "#                             'xref': 'x',\n",
    "#                             'yref': 'y',\n",
    "#                             'x0': min(Data_select.loc[dict_enriched_region['Off']]['CCA1'])/max(abs(Data_select['CCA1'])),\n",
    "#                             'y0': min(Data_select.loc[dict_enriched_region['Off']]['CCA2'])/max(abs(Data_select['CCA2'])),\n",
    "#                             'x1': max(Data_select.loc[dict_enriched_region['Off']]['CCA1'])/max(abs(Data_select['CCA1'])),\n",
    "#                             'y1': max(Data_select.loc[dict_enriched_region['Off']]['CCA2'])/max(abs(Data_select['CCA2'])),\n",
    "#                             'opacity': 0.5,\n",
    "#                             'fillcolor': None,\n",
    "#                             'line': {\n",
    "#                                 'color': 'blue',\n",
    "#                             },\n",
    "#                         },\n",
    "#                         {\n",
    "#                             'type': 'circle',\n",
    "#                             'xref': 'x',\n",
    "#                             'yref': 'y',\n",
    "#                             'x0': min(Data_select.loc[dict_enriched_region['CC']]['CCA1'])/max(abs(Data_select['CCA1'])),\n",
    "#                             'y0': min(Data_select.loc[dict_enriched_region['CC']]['CCA2'])/max(abs(Data_select['CCA2'])),\n",
    "#                             'x1': max(Data_select.loc[dict_enriched_region['CC']]['CCA1'])/max(abs(Data_select['CCA1'])),\n",
    "#                             'y1': max(Data_select.loc[dict_enriched_region['CC']]['CCA2'])/max(abs(Data_select['CCA2'])),\n",
    "#                             'opacity': 0.5,\n",
    "#                             'fillcolor': None,\n",
    "#                             'line': {\n",
    "#                                 'color': 'orange',\n",
    "#                             },\n",
    "#                         },\n",
    "#                         {\n",
    "#                             'type': 'circle',\n",
    "#                             'xref': 'x',\n",
    "#                             'yref': 'y',\n",
    "#                             'x0': min(Data_select.loc[dict_enriched_region['SCB']]['CCA1'])/max(abs(Data_select['CCA1'])),\n",
    "#                             'y0': min(Data_select.loc[dict_enriched_region['SCB']]['CCA2'])/max(abs(Data_select['CCA2'])),\n",
    "#                             'x1': max(Data_select.loc[dict_enriched_region['SCB']]['CCA1'])/max(abs(Data_select['CCA1'])),\n",
    "#                             'y1': max(Data_select.loc[dict_enriched_region['SCB']]['CCA2'])/max(abs(Data_select['CCA2'])),\n",
    "#                             'opacity': 0.5,\n",
    "#                             'fillcolor': None,\n",
    "#                             'line': {\n",
    "#                                 'color': 'green',\n",
    "#                             },\n",
    "#                         },\n",
    "#                         {\n",
    "#                             'type': 'circle',\n",
    "#                             'xref': 'x',\n",
    "#                             'yref': 'y',\n",
    "#                             'x0': min(Data_select.loc[dict_enriched_region['Up']]['CCA1'])/max(abs(Data_select['CCA1'])),\n",
    "#                             'y0': min(Data_select.loc[dict_enriched_region['Up']]['CCA2'])/max(abs(Data_select['CCA2'])),\n",
    "#                             'x1': max(Data_select.loc[dict_enriched_region['Up']]['CCA1'])/max(abs(Data_select['CCA1'])),\n",
    "#                             'y1': max(Data_select.loc[dict_enriched_region['Up']]['CCA2'])/max(abs(Data_select['CCA2'])),\n",
    "#                             'opacity': 0.5,\n",
    "#                             'fillcolor': None,\n",
    "#                             'line': {\n",
    "#                                 'color': 'red',\n",
    "#                             },\n",
    "#                         },\n",
    "# #                        {\n",
    "# #                             'type': 'circle',\n",
    "# #                             'xref': 'x',\n",
    "# #                             'yref': 'y',\n",
    "# #                             'x0': min(Data_select.loc[dict_OTU_unique['mixed']]['CCA1'])/max(abs(Data_select['CCA1'])),\n",
    "# #                             'y0': min(Data_select.loc[dict_OTU_unique['mixed']]['CCA2'])/max(abs(Data_select['CCA2'])),\n",
    "# #                             'x1': max(Data_select.loc[dict_OTU_unique['mixed']]['CCA1'])/max(abs(Data_select['CCA1'])),\n",
    "# #                             'y1': max(Data_select.loc[dict_OTU_unique['mixed']]['CCA2'])/max(abs(Data_select['CCA2'])),\n",
    "# #                             'opacity': 0.8,\n",
    "# #                             'fillcolor': None,\n",
    "# #                             'line': {\n",
    "# #                                 'color': 'purple',\n",
    "# #                             },\n",
    "# #                         }\n",
    "#                   ]\n",
    "                \n",
    "\n",
    "\n",
    "fig = dict(data=[trace,trace2,trace_annotation],layout = layout) #\n",
    "fig['layout'].update(height=900, width=1000,showlegend=False)\n",
    "\n",
    "py.plot(fig,filename='results/CCA_16S.html', auto_open=False)#,image='png',image_filename='18S_'+Method_choice+'.png',image_height=image_size[0],image_width=image_size[1])\n",
    "IFrame(src='results/CCA_16S.html',height=950, width=1050)"
   ]
  },
  {
   "cell_type": "code",
   "execution_count": null,
   "metadata": {},
   "outputs": [],
   "source": []
  }
 ],
 "metadata": {
  "kernelspec": {
   "display_name": "py35",
   "language": "python",
   "name": "py35"
  },
  "language_info": {
   "codemirror_mode": {
    "name": "ipython",
    "version": 3
   },
   "file_extension": ".py",
   "mimetype": "text/x-python",
   "name": "python",
   "nbconvert_exporter": "python",
   "pygments_lexer": "ipython3",
   "version": "3.5.5"
  }
 },
 "nbformat": 4,
 "nbformat_minor": 2
}
