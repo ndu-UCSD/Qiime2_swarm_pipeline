{
 "cells": [
  {
   "cell_type": "code",
   "execution_count": 3,
   "metadata": {},
   "outputs": [],
   "source": [
    "import pandas as pd\n",
    "import numpy as np\n",
    "from tqdm import tqdm\n",
    "import ecopy as ep\n",
    "from scipy.spatial.distance import pdist,squareform\n",
    "from skbio.stats.ordination import pcoa\n",
    "from scipy.interpolate import griddata\n",
    "from skbio import DistanceMatrix\n",
    "from skbio import diversity\n",
    "import seaborn as sns\n",
    "import matplotlib.pyplot as plt\n",
    "from Bio import SeqIO,Phylo\n",
    "from IPython.display import IFrame\n",
    "import pickle\n",
    "\n",
    "import plotly.offline as py\n",
    "import plotly.graph_objs as go\n",
    "from plotly import tools\n",
    "import warnings\n",
    "warnings.filterwarnings(\"ignore\")\n",
    "\n",
    "from function_diversity_analysis import Beta_Diversity_Contour_plot,Diversity_bar_plot,export_values\n",
    "\n",
    "%matplotlib inline"
   ]
  },
  {
   "cell_type": "code",
   "execution_count": 4,
   "metadata": {},
   "outputs": [],
   "source": [
    "# Example - 16S bar plots\n",
    "\n",
    "# Load in alpha diversity data \n",
    "df_alpha_meta = pd.read_pickle('./results/df_alpha_meta.pkl')\n",
    "\n",
    "with open(\"./results/dict_beta.pkl\", \"rb\") as f:\n",
    "     dict_beta = pickle.load(f)"
   ]
  },
  {
   "cell_type": "code",
   "execution_count": 5,
   "metadata": {},
   "outputs": [],
   "source": [
    "AxB_table = [['season','year'],['year','season'],['year','region'],['region','season']]"
   ]
  },
  {
   "cell_type": "code",
   "execution_count": 6,
   "metadata": {},
   "outputs": [],
   "source": [
    "df_alpha_meta['year'] = df_alpha_meta['year'].astype(str)"
   ]
  },
  {
   "cell_type": "code",
   "execution_count": 7,
   "metadata": {},
   "outputs": [
    {
     "name": "stdout",
     "output_type": "stream",
     "text": [
      "This is the format of your plot grid:\n",
      "[ (1,1) x1,y1 ]\n",
      "[ (2,1) x2,y2 ]\n",
      "[ (3,1) x3,y3 ]\n",
      "[ (4,1) x4,y4 ]\n",
      "\n"
     ]
    },
    {
     "data": {
      "text/html": [
       "\n",
       "        <iframe\n",
       "            width=\"550\"\n",
       "            height=\"850\"\n",
       "            src=\"results/observed_otus.html\"\n",
       "            frameborder=\"0\"\n",
       "            allowfullscreen\n",
       "        ></iframe>\n",
       "        "
      ],
      "text/plain": [
       "<IPython.lib.display.IFrame at 0x7ff96d810080>"
      ]
     },
     "execution_count": 7,
     "metadata": {},
     "output_type": "execute_result"
    }
   ],
   "source": [
    "# 16S alpha/beta diversity reuslts - below will generate an interactive bar plot\n",
    "\n",
    "Method_choice =  'observed_otus'\n",
    "image_size = [800,500]\n",
    "\n",
    "fig,layout = Diversity_bar_plot(df_alpha_meta = df_alpha_meta,AxB_table = AxB_table,div_a_col=Method_choice, diversity_type='alpha', cols=1,Color_pattern = 'Spectral')\n",
    "fig['layout'].update(height=image_size[0], width=image_size[1],showlegend=False)\n",
    "export_values(fig).to_csv('results/'+Method_choice+'.csv')\n",
    "py.plot(fig,filename='results/'+Method_choice+'.html', auto_open=False)\n",
    "IFrame(src='results/'+Method_choice+'.html',height=image_size[0]+50, width=image_size[1]+50)"
   ]
  },
  {
   "cell_type": "code",
   "execution_count": 8,
   "metadata": {},
   "outputs": [],
   "source": [
    "# 16S alpha/beta diversity reuslts - below will generate an interactive pcoa plot\n",
    "Factors = ['Temp', 'Sal', 'Density', 'O2', 'PO4', 'SiO3', 'NO3', 'NH3', 'Chla', 'PhaePig','ChlaAnom','PO4Anom', 'SiO3Anom', 'NO2Anom', 'NO3Anom','NCDepth', 'TempAnom']"
   ]
  },
  {
   "cell_type": "code",
   "execution_count": 9,
   "metadata": {},
   "outputs": [],
   "source": [
    "Alpha_method_choice =  'observed_otus'\n",
    "Beta_method_choice =  'unifrac_weighted'"
   ]
  },
  {
   "cell_type": "code",
   "execution_count": 12,
   "metadata": {},
   "outputs": [
    {
     "data": {
      "text/html": [
       "\n",
       "        <iframe\n",
       "            width=\"1050\"\n",
       "            height=\"650\"\n",
       "            src=\"results/PCoA.html\"\n",
       "            frameborder=\"0\"\n",
       "            allowfullscreen\n",
       "        ></iframe>\n",
       "        "
      ],
      "text/plain": [
       "<IPython.lib.display.IFrame at 0x7ff96cebc630>"
      ]
     },
     "execution_count": 12,
     "metadata": {},
     "output_type": "execute_result"
    }
   ],
   "source": [
    "# Initilize parameters\n",
    "sym_index = df_alpha_meta.sort_index().index\n",
    "df_alpha_meta = df_alpha_meta.loc[sym_index]\n",
    "df_matrix = dict_beta[Beta_method_choice][sym_index].loc[sym_index]\n",
    "a_div_col = Alpha_method_choice\n",
    "group_factors = ['region','season','year']\n",
    "contour_factors = Factors\n",
    "node_scale = 10/df_alpha_meta[Alpha_method_choice].mean()\n",
    "contour_resolution = 50\n",
    "opacity_node = 0.9\n",
    "opacity_contour = 0.4\n",
    "\n",
    "# PCOA analysis\n",
    "dm = DistanceMatrix(df_matrix.values.tolist(),df_matrix.index.tolist())\n",
    "df_pcoa = pcoa(dm)\n",
    "df_PCoA_Matrix = df_pcoa.samples\n",
    "\n",
    "df_alpha_meta['x'] = df_PCoA_Matrix['PC1']\n",
    "df_alpha_meta['y'] = df_PCoA_Matrix['PC2']\n",
    "\n",
    "# PCoA plots\n",
    "\n",
    "fig,layout = Beta_Diversity_Contour_plot(df_alpha_meta,df_PCoA_Matrix,a_div_col,group_factors,contour_factors,node_scale,contour_resolution,opacity_node,opacity_contour,contour_cmap='heatmap')\n",
    "fig['layout'].update(height=600, width=1000,showlegend=True)\n",
    "py.plot(fig,filename='results/PCoA.html', auto_open=False)\n",
    "IFrame(src='results/PCoA.html',height=650, width=1050)"
   ]
  },
  {
   "cell_type": "code",
   "execution_count": null,
   "metadata": {},
   "outputs": [],
   "source": []
  }
 ],
 "metadata": {
  "kernelspec": {
   "display_name": "py35",
   "language": "python",
   "name": "py35"
  },
  "language_info": {
   "codemirror_mode": {
    "name": "ipython",
    "version": 3
   },
   "file_extension": ".py",
   "mimetype": "text/x-python",
   "name": "python",
   "nbconvert_exporter": "python",
   "pygments_lexer": "ipython3",
   "version": "3.5.5"
  }
 },
 "nbformat": 4,
 "nbformat_minor": 2
}
