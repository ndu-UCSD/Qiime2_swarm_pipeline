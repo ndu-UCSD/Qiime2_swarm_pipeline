{
 "cells": [
  {
   "cell_type": "code",
   "execution_count": 1,
   "metadata": {
    "slideshow": {
     "slide_type": "-"
    }
   },
   "outputs": [],
   "source": [
    "from Bio import SeqIO,Phylo\n",
    "import os\n",
    "import pandas as pd\n",
    "import numpy as np\n",
    "from tqdm import tqdm\n",
    "import warnings\n",
    "warnings.filterwarnings(\"ignore\")"
   ]
  },
  {
   "cell_type": "markdown",
   "metadata": {},
   "source": [
    "#### Primers used\n",
    "\n",
    "For CalCOFI - from Hong\n",
    "MiSeq 16S F: GTGYCAGCMGCCGCGGTAA\n",
    "\n",
    "~~MiSeq 16S R: CCGYCAATTCMTTTRAGT~~\n",
    "\n",
    "For Training for 16S classifier, use 806 R GGACTACHVHHHTWTCTAAT\n",
    "\n",
    "\n",
    "For Rachel's project, the following primers are used (same as CalCOFI??)\n",
    "515 F GTGYCAGCMGCCGCGGTAA 926 R CCGYCAATTYMTTTRAGTTT\n",
    "\n",
    "Illumina 18S V4\n",
    "Illumina 18S V4 F: CCAGCASCYGCGGTAATTCC\n",
    "Illumina 18S V4 R(pre 2015): ACTTTCGTTCTTGATYRA\n",
    "\n",
    "Replace MiSeq 18S V4 R on September 2015 as below:\n",
    "MiSeq 18S V4 (edited) R: ACTTTCGTTCTTGATYR\n",
    "\n",
    "Illumina 18S V9\n",
    "Illumina 18S V9 F: TTGTACACACCGCCC\n",
    "Illumina 18S V9 R: CCTTCYGCAGGTTCACCTAC\n",
    "\n",
    "For 16S V3V5 - from Beth\n",
    "341F (5’-CCTACGGGNGGCWGCAG-3’) and 926R (5’-CCGTCAATTCMTTTRAGT-3’)"
   ]
  },
  {
   "cell_type": "code",
   "execution_count": 2,
   "metadata": {},
   "outputs": [],
   "source": [
    "# Set work directory here\n",
    "os.environ['workdir'] = '/usr/local/projdata/0568/projects/PLANKTON/illumina_aallen/db/Ocean_database'"
   ]
  },
  {
   "cell_type": "markdown",
   "metadata": {},
   "source": [
    "### Train PR2 classifier"
   ]
  },
  {
   "cell_type": "code",
   "execution_count": 5,
   "metadata": {},
   "outputs": [],
   "source": [
    "# Specify PR2 database files\n",
    "PR_DB_ori = pd.read_csv(os.environ['workdir']+'/fasta_database_raw/PR2/pr2_version_4.11.1_merged.tsv',sep='\\t')"
   ]
  },
  {
   "cell_type": "code",
   "execution_count": 6,
   "metadata": {},
   "outputs": [],
   "source": [
    "PR_DB = PR_DB_ori[['genbank_accession','sequence','kingdom', 'supergroup', 'division', 'class', 'order', 'family', 'genus','species']]\n",
    "PR_DB = PR_DB.loc[PR_DB['sequence'].dropna().index]\n",
    "PR_DB = PR_DB.loc[PR_DB.genbank_accession.drop_duplicates().index].set_index('genbank_accession')"
   ]
  },
  {
   "cell_type": "code",
   "execution_count": 7,
   "metadata": {},
   "outputs": [
    {
     "name": "stderr",
     "output_type": "stream",
     "text": [
      "100%|██████████| 164144/164144 [00:07<00:00, 20821.64it/s]\n"
     ]
    }
   ],
   "source": [
    "# Separate sequence from the tsv file and write into a fasta format\n",
    "with open(os.environ['workdir']+'/fasta_database_raw/PR2/PR2_for_qiime2.fasta', \"w\") as handle:\n",
    "    for ID in tqdm(PR_DB.index):\n",
    "        handle.write(\">\"+ str(ID)+'\\n'+PR_DB.sequence.loc[ID]+'\\n')"
   ]
  },
  {
   "cell_type": "code",
   "execution_count": 8,
   "metadata": {},
   "outputs": [
    {
     "name": "stderr",
     "output_type": "stream",
     "text": [
      "100%|██████████| 164144/164144 [00:52<00:00, 3113.41it/s]\n"
     ]
    }
   ],
   "source": [
    "# Separate taxonomy information from the tsv file and write into a txt file\n",
    "with open(os.environ['workdir']+'/fasta_database_raw/PR2/PR2_taxonomy.txt', \"w\") as handle:\n",
    "    for ID in tqdm(PR_DB.index):\n",
    "        handle.write(str(ID)+'\\t kingdom_'+PR_DB['kingdom'].loc[ID]\n",
    "                     +';supergroup_'+PR_DB['supergroup'].loc[ID]\n",
    "                     +';division_'+PR_DB['division'].loc[ID]\n",
    "                     +';class_'+PR_DB['class'].loc[ID]\n",
    "                     +';order_'+PR_DB['order'].loc[ID]\n",
    "                     +';family_'+PR_DB['family'].loc[ID]\n",
    "                     +';genus_'+PR_DB['genus'].loc[ID]\n",
    "                     +';species_'+PR_DB['species'].loc[ID]+'\\n')"
   ]
  },
  {
   "cell_type": "code",
   "execution_count": 38,
   "metadata": {},
   "outputs": [],
   "source": [
    "# Convert these files to qiime2 compatible format\n",
    "!qiime tools import \\\n",
    "  --type 'FeatureData[Sequence]' \\\n",
    "  --input-path $workdir/fasta_database_raw/PR2/PR2_for_qiime2.fasta \\\n",
    "  --output-path $workdir/qiime2_compatible_database/PR2/PR2_for_qiime2.qza\n",
    "\n",
    "!qiime tools import \\\n",
    "  --type 'FeatureData[Taxonomy]' \\\n",
    "  --source-format HeaderlessTSVTaxonomyFormat \\\n",
    "  --input-path $workdir/fasta_database_raw/PR2/PR2_taxonomy.txt \\\n",
    "  --output-path $workdir/qiime2_compatible_database/PR2/PR2_taxonomy.qza"
   ]
  },
  {
   "cell_type": "code",
   "execution_count": 41,
   "metadata": {},
   "outputs": [
    {
     "name": "stdout",
     "output_type": "stream",
     "text": [
      "\u001b[32mSaved FeatureData[Sequence] to: /usr/local/projdata/0568/projects/PLANKTON/illumina_aallen/db/Ocean_database//qiime2_compatible_database/PR2/PR2_for_qiime2_TAReuk.qza\u001b[0m\n"
     ]
    }
   ],
   "source": [
    "# Modify the sequence as needed. For V9 region only\n",
    "!qiime feature-classifier extract-reads \\\n",
    "  --i-sequences $workdir/qiime2_compatible_database/PR2/PR2_for_qiime2.qza \\\n",
    "  --p-f-primer TTGTACACACCGCCC \\\n",
    "  --p-r-primer CCTTCYGCAGGTTCACCTAC \\\n",
    "  --o-reads $workdir/qiime2_compatible_database/PR2/PR2_for_qiime2_V9.qza"
   ]
  },
  {
   "cell_type": "code",
   "execution_count": null,
   "metadata": {},
   "outputs": [],
   "source": [
    "# Classifier for V9 region only\n",
    "!qiime feature-classifier fit-classifier-naive-bayes \\\n",
    "  --i-reference-reads $workdir/qiime2_compatible_database/PR2/PR2_for_qiime2_V9.qza \\\n",
    "  --i-reference-taxonomy $workdir/qiime2_compatible_database/PR2/PR2_taxonomy.qza \\\n",
    "  --o-classifier $workdir/classifier/PR2_V9_classifier.qza"
   ]
  },
  {
   "cell_type": "code",
   "execution_count": null,
   "metadata": {},
   "outputs": [],
   "source": [
    "# Modify the sequence as needed. For V4 region only\n",
    "!qiime feature-classifier extract-reads \\\n",
    "  --i-sequences $workdir/qiime2_compatible_database/PR2/PR2_for_qiime2.qza \\\n",
    "  --p-f-primer CCAGCASCYGCGGTAATTCC \\\n",
    "  --p-r-primer ACTTTCGTTCTTGATYR \\\n",
    "  --o-reads $workdir/qiime2_compatible_database/PR2/PR2_for_qiime2_V4.qza"
   ]
  },
  {
   "cell_type": "code",
   "execution_count": null,
   "metadata": {},
   "outputs": [],
   "source": [
    "# Classifier for V4 region only\n",
    "!qiime feature-classifier fit-classifier-naive-bayes \\\n",
    "  --i-reference-reads $workdir/qiime2_compatible_database/PR2/PR2_for_qiime2_V4.qza \\\n",
    "  --i-reference-taxonomy $workdir/qiime2_compatible_database/PR2/PR2_taxonomy.qza \\\n",
    "  --o-classifier $workdir/classifier/PR2_V4_classifier.qza"
   ]
  },
  {
   "cell_type": "code",
   "execution_count": null,
   "metadata": {},
   "outputs": [],
   "source": [
    "# Classifier for all regions\n",
    "!qiime feature-classifier fit-classifier-naive-bayes \\\n",
    "  --i-reference-reads $workdir/qiime2_compatible_database/PR2/PR2_for_qiime2.qza \\\n",
    "  --i-reference-taxonomy $workdir/qiime2_compatible_database/PR2/PR2_taxonomy.qza \\\n",
    "  --o-classifier  $workdir/classifier/PR2_classifier_general.qza"
   ]
  },
  {
   "cell_type": "markdown",
   "metadata": {},
   "source": [
    "### Train Silver 18S classifier"
   ]
  },
  {
   "cell_type": "code",
   "execution_count": 13,
   "metadata": {},
   "outputs": [],
   "source": [
    "!qiime tools import \\\n",
    "  --type 'FeatureData[Sequence]' \\\n",
    "  --input-path $workdir/fasta_database_raw/Silva/silva132_99.fna \\\n",
    "  --output-path $workdir/qiime2_compatible_database/SILVA132/silva132_99_qiime2.qza\n",
    "\n",
    "!qiime tools import \\\n",
    "  --type 'FeatureData[Taxonomy]' \\\n",
    "  --source-format HeaderlessTSVTaxonomyFormat \\\n",
    "  --input-path $workdir/fasta_database_raw/Silva/taxonomy_7_levels.txt \\\n",
    "  --output-path $workdir/qiime2_compatible_database/SILVA132/silva132_99_taxonomy.qza"
   ]
  },
  {
   "cell_type": "code",
   "execution_count": null,
   "metadata": {},
   "outputs": [],
   "source": [
    "# Classifier for all regions\n",
    "!qiime feature-classifier fit-classifier-naive-bayes \\\n",
    "  --i-reference-reads $workdir/qiime2_compatible_database/SILVA132/silva132_99_qiime2.qza \\\n",
    "  --i-reference-taxonomy $workdir/qiime2_compatible_database/SILVA132/silva132_99_taxonomy.qza \\\n",
    "  --o-classifier $workdir/classifier/SILVA132_classifier.qza"
   ]
  },
  {
   "cell_type": "code",
   "execution_count": null,
   "metadata": {},
   "outputs": [],
   "source": [
    "# Train Silva 18S classifier specific for V4 region\n",
    "!qiime feature-classifier extract-reads \\\n",
    "  --i-sequences $workdir/qiime2_compatible_database/SILVA132/silva132_99_qiime2.qza \\\n",
    "  --p-f-primer CCAGCASCYGCGGTAATTCC \\\n",
    "  --p-r-primer ACTTTCGTTCTTGATYR \\\n",
    "  --o-reads $workdir/qiime2_compatible_database/SILVA132/silva132_99_qiime2_TAReuk.qza"
   ]
  },
  {
   "cell_type": "code",
   "execution_count": null,
   "metadata": {},
   "outputs": [],
   "source": [
    "!qiime feature-classifier fit-classifier-naive-bayes \\\n",
    "  --i-reference-reads $workdir/qiime2_compatible_database/SILVA132/silva132_99_qiime2_TAReuk.qza \\\n",
    "  --i-reference-taxonomy $workdir/qiime2_compatible_database/SILVA132/silva132_99_taxonomy.qza \\\n",
    "  --o-classifier $workdir/classifier/SILVA132_TAReuk_V4_classifier.qza"
   ]
  },
  {
   "cell_type": "code",
   "execution_count": null,
   "metadata": {},
   "outputs": [],
   "source": [
    "# Train Silva 18S classifier specific for V9 region\n",
    "!qiime feature-classifier extract-reads \\\n",
    "  --i-sequences $workdir/qiime2_compatible_database/SILVA132/silva132_99_qiime2.qza \\\n",
    "  --p-f-primer TTGTACACACCGCCC \\\n",
    "  --p-r-primer CCTTCYGCAGGTTCACCTAC \\\n",
    "  --o-reads $workdir/qiime2_compatible_database/SILVA132/silva132_99_qiime2_1389F_1510R.qza"
   ]
  },
  {
   "cell_type": "code",
   "execution_count": null,
   "metadata": {},
   "outputs": [],
   "source": [
    "!qiime feature-classifier fit-classifier-naive-bayes \\\n",
    "  --i-reference-reads $workdir/qiime2_compatible_database/SILVA132/silva132_99_qiime2_1389F_1510R.qza \\\n",
    "  --i-reference-taxonomy $workdir/qiime2_compatible_database/SILVA132/silva132_99_taxonomy.qza \\\n",
    "  --o-classifier $workdir/classifier/silva132_99_V9_qiime2_1389F_1510R_classifier.qza"
   ]
  },
  {
   "cell_type": "markdown",
   "metadata": {},
   "source": [
    "### Train PhytoRef 18S classifier"
   ]
  },
  {
   "cell_type": "code",
   "execution_count": 38,
   "metadata": {},
   "outputs": [],
   "source": [
    "dict_phyto = SeqIO.to_dict(rec.upper() for rec in SeqIO.parse(os.environ['workdir']+'/fasta_database_raw/PhytoRef/PhytoRef_with_taxonomy.fasta','fasta'))\n",
    "\n",
    "df_phylo = pd.DataFrame(index = ['Kingdom'\n",
    "    ,'Supergroup'\n",
    "    ,'Phylum'\n",
    "    ,'Class'\n",
    "    ,'Subclass'\n",
    "    ,'Order'\n",
    "    ,'Suborder'\n",
    "    ,'Family'\n",
    "    ,'Genus'\n",
    "    ,'Species'])\n",
    "\n",
    "for entry in dict_phyto.keys():\n",
    "    temp = [tax for tax in entry.split('|')]\n",
    "    df_phylo[temp[0]] = temp[1:]\n",
    "    \n",
    "df_phylo=df_phylo.T\n",
    "\n",
    "for col in df_phylo.columns:\n",
    "    df_phylo[col] = df_phylo[col].map(lambda x:col+'.'+x)\n",
    "\n",
    "df_phylo['lineage'] = df_phylo.apply(lambda x: ';'.join(x.values.tolist()), axis=1) \n",
    "\n",
    "df_phylo.index = [x.replace('#','.') for x in df_phylo.index]\n",
    "\n",
    "df_phylo[['lineage']].to_csv(os.environ['workdir']+'/fasta_database_raw/PhytoRef/Phyto_18S_taxonomy.txt',sep = '\\t',header=False)"
   ]
  },
  {
   "cell_type": "code",
   "execution_count": 86,
   "metadata": {},
   "outputs": [
    {
     "name": "stderr",
     "output_type": "stream",
     "text": [
      "100%|██████████| 6490/6490 [00:00<00:00, 126260.04it/s]\n"
     ]
    }
   ],
   "source": [
    "dict_phyto_clean = dict(zip(list(df_phylo.index),[dict_phyto[seq].seq for seq in dict_phyto.keys()]))\n",
    "with open(os.environ['workdir']+'/fasta_database_raw/PhytoRef/PhytoRef_No_tax.fasta','w') as handle:\n",
    "    for ID in tqdm(dict_phyto_clean):\n",
    "        handle.write('>'+ID.replace('#','.')+'\\n'+str(dict_phyto_clean[ID]).replace('X','-')+'\\n')"
   ]
  },
  {
   "cell_type": "code",
   "execution_count": 87,
   "metadata": {},
   "outputs": [],
   "source": [
    "!qiime tools import \\\n",
    "  --type 'FeatureData[Sequence]' \\\n",
    "  --input-path $workdir/fasta_database_raw/PhytoRef/PhytoRef_No_tax.fasta \\\n",
    "  --output-path $workdir/qiime2_compatible_database/PhytoRef/PhytoRef_18S_qiime2.qza\n",
    "\n",
    "!qiime tools import \\\n",
    "  --type 'FeatureData[Taxonomy]' \\\n",
    "  --source-format HeaderlessTSVTaxonomyFormat \\\n",
    "  --input-path $workdir/fasta_database_raw/PhytoRef/Phyto_18S_taxonomy.txt \\\n",
    "  --output-path $workdir/qiime2_compatible_database/PhytoRef/Phyto_18S_taxonomy.qza"
   ]
  },
  {
   "cell_type": "code",
   "execution_count": 88,
   "metadata": {},
   "outputs": [
    {
     "name": "stdout",
     "output_type": "stream",
     "text": [
      "\u001b[32mSaved TaxonomicClassifier to: classifier/Phyto_Ref_classifier.qza\u001b[0m\n"
     ]
    }
   ],
   "source": [
    "!qiime feature-classifier fit-classifier-naive-bayes \\\n",
    "  --i-reference-reads $workdir/qiime2_compatible_database/PhytoRef/PhytoRef_18S_qiime2.qza \\\n",
    "  --i-reference-taxonomy $workdir/qiime2_compatible_database/PhytoRef/Phyto_18S_taxonomy.qza \\\n",
    "  --o-classifier $workdir/classifier/Phyto_Ref_classifier.qza"
   ]
  }
 ],
 "metadata": {
  "kernelspec": {
   "display_name": "py35",
   "language": "python",
   "name": "py35"
  },
  "language_info": {
   "codemirror_mode": {
    "name": "ipython",
    "version": 3
   },
   "file_extension": ".py",
   "mimetype": "text/x-python",
   "name": "python",
   "nbconvert_exporter": "python",
   "pygments_lexer": "ipython3",
   "version": "3.5.5"
  }
 },
 "nbformat": 4,
 "nbformat_minor": 2
}
